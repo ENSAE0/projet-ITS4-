{
 "cells": [
  {
   "cell_type": "markdown",
   "id": "90f13898",
   "metadata": {},
   "source": [
    "# Projet sur Segmentation des clients de l'entreprise Brésilienne OLIST"
   ]
  },
  {
   "cell_type": "markdown",
   "id": "4dc6bb3d",
   "metadata": {},
   "source": [
    "###  Rédigé par  Mamadou NDIAYE et Mamadou DIALLO élèves ITS à l'ENSAE de DAKAR"
   ]
  },
  {
   "cell_type": "markdown",
   "id": "22d88884",
   "metadata": {},
   "source": [
    "#### Installation de package"
   ]
  },
  {
   "cell_type": "code",
   "execution_count": 1,
   "id": "6402b83a",
   "metadata": {
    "tags": []
   },
   "outputs": [],
   "source": [
    "import pandas as pd\n",
    "import seaborn as sns\n",
    "import matplotlib.pyplot as plt\n",
    "import numpy as np"
   ]
  },
  {
   "cell_type": "code",
   "execution_count": 2,
   "id": "a19e6ce4",
   "metadata": {
    "tags": []
   },
   "outputs": [
    {
     "name": "stdout",
     "output_type": "stream",
     "text": [
      "C:\\Users\\Mamadou DIALLO\n",
      "C:\\ENSAE DE DAKAR\\ITS4\\ITS4 DIALLO\\Machine learning\\projet\n"
     ]
    }
   ],
   "source": [
    "#Vérifier le répertoire de travail\n",
    "import os\n",
    "print(os.getcwd()) \n",
    "#modifie le répertoire de travail \n",
    "pwd = \"C:\\ENSAE DE DAKAR\\ITS4\\ITS4 DIALLO\\Machine learning\\projet\"\n",
    "os.chdir(pwd)\n",
    " \n",
    "#affiche le nouveau repertoire de travail \n",
    "print(os.getcwd()) "
   ]
  },
  {
   "cell_type": "markdown",
   "id": "f2ef6da5",
   "metadata": {},
   "source": [
    "# Importation des données"
   ]
  },
  {
   "cell_type": "code",
   "execution_count": 3,
   "id": "b5b24561",
   "metadata": {
    "tags": []
   },
   "outputs": [],
   "source": [
    "# Importation des donnés\n",
    "#les données que nous allons utiliser sont réparties en 11 bases\n",
    "customers= pd.read_csv('Bases/olist_customers_dataset.csv', sep=\",\")\n",
    "geolocalisation = pd.read_csv('Bases/olist_geolocation_dataset.csv', sep=\";\")\n",
    "order_items = pd.read_csv('Bases/olist_order_items_dataset.csv', sep=\";\")\n",
    "order_payments = pd.read_csv('Bases/olist_order_payments_dataset.csv', sep=\";\")\n",
    "order_reviews = pd.read_csv('Bases/olist_order_reviews_dataset.csv', sep=\";\")\n",
    "orders = pd.read_csv('Bases/olist_orders_dataset.csv', sep=\";\")\n",
    "products = pd.read_csv('Bases/olist_products_dataset.csv', sep=\";\")\n",
    "sellers = pd.read_csv('Bases/olist_sellers_dataset.csv', sep=\";\")\n",
    "translation = pd.read_csv('Bases/product_category_name_translation.csv', sep=\"\\t\")"
   ]
  },
  {
   "cell_type": "markdown",
   "id": "3456d15d-1ec4-430a-a714-e324bf107b54",
   "metadata": {},
   "source": [
    "## visualisation des bases"
   ]
  },
  {
   "cell_type": "code",
   "execution_count": 4,
   "id": "b1bedbe9",
   "metadata": {},
   "outputs": [
    {
     "data": {
      "text/html": [
       "<div>\n",
       "<style scoped>\n",
       "    .dataframe tbody tr th:only-of-type {\n",
       "        vertical-align: middle;\n",
       "    }\n",
       "\n",
       "    .dataframe tbody tr th {\n",
       "        vertical-align: top;\n",
       "    }\n",
       "\n",
       "    .dataframe thead th {\n",
       "        text-align: right;\n",
       "    }\n",
       "</style>\n",
       "<table border=\"1\" class=\"dataframe\">\n",
       "  <thead>\n",
       "    <tr style=\"text-align: right;\">\n",
       "      <th></th>\n",
       "      <th>customer_id</th>\n",
       "      <th>customer_unique_id</th>\n",
       "      <th>customer_zip_code_prefix</th>\n",
       "      <th>customer_city</th>\n",
       "      <th>customer_state</th>\n",
       "    </tr>\n",
       "  </thead>\n",
       "  <tbody>\n",
       "    <tr>\n",
       "      <th>0</th>\n",
       "      <td>06b8999e2fba1a1fbc88172c00ba8bc7</td>\n",
       "      <td>861eff4711a542e4b93843c6dd7febb0</td>\n",
       "      <td>14409</td>\n",
       "      <td>franca</td>\n",
       "      <td>SP</td>\n",
       "    </tr>\n",
       "    <tr>\n",
       "      <th>1</th>\n",
       "      <td>18955e83d337fd6b2def6b18a428ac77</td>\n",
       "      <td>290c77bc529b7ac935b93aa66c333dc3</td>\n",
       "      <td>9790</td>\n",
       "      <td>sao bernardo do campo</td>\n",
       "      <td>SP</td>\n",
       "    </tr>\n",
       "    <tr>\n",
       "      <th>2</th>\n",
       "      <td>4e7b3e00288586ebd08712fdd0374a03</td>\n",
       "      <td>060e732b5b29e8181a18229c7b0b2b5e</td>\n",
       "      <td>1151</td>\n",
       "      <td>sao paulo</td>\n",
       "      <td>SP</td>\n",
       "    </tr>\n",
       "    <tr>\n",
       "      <th>3</th>\n",
       "      <td>b2b6027bc5c5109e529d4dc6358b12c3</td>\n",
       "      <td>259dac757896d24d7702b9acbbff3f3c</td>\n",
       "      <td>8775</td>\n",
       "      <td>mogi das cruzes</td>\n",
       "      <td>SP</td>\n",
       "    </tr>\n",
       "    <tr>\n",
       "      <th>4</th>\n",
       "      <td>4f2d8ab171c80ec8364f7c12e35b23ad</td>\n",
       "      <td>345ecd01c38d18a9036ed96c73b8d066</td>\n",
       "      <td>13056</td>\n",
       "      <td>campinas</td>\n",
       "      <td>SP</td>\n",
       "    </tr>\n",
       "  </tbody>\n",
       "</table>\n",
       "</div>"
      ],
      "text/plain": [
       "                        customer_id                customer_unique_id  \\\n",
       "0  06b8999e2fba1a1fbc88172c00ba8bc7  861eff4711a542e4b93843c6dd7febb0   \n",
       "1  18955e83d337fd6b2def6b18a428ac77  290c77bc529b7ac935b93aa66c333dc3   \n",
       "2  4e7b3e00288586ebd08712fdd0374a03  060e732b5b29e8181a18229c7b0b2b5e   \n",
       "3  b2b6027bc5c5109e529d4dc6358b12c3  259dac757896d24d7702b9acbbff3f3c   \n",
       "4  4f2d8ab171c80ec8364f7c12e35b23ad  345ecd01c38d18a9036ed96c73b8d066   \n",
       "\n",
       "   customer_zip_code_prefix          customer_city customer_state  \n",
       "0                     14409                 franca             SP  \n",
       "1                      9790  sao bernardo do campo             SP  \n",
       "2                      1151              sao paulo             SP  \n",
       "3                      8775        mogi das cruzes             SP  \n",
       "4                     13056               campinas             SP  "
      ]
     },
     "execution_count": 4,
     "metadata": {},
     "output_type": "execute_result"
    }
   ],
   "source": [
    "customers.head(5)\n"
   ]
  },
  {
   "cell_type": "code",
   "execution_count": 5,
   "id": "854d774c-b55b-4702-836a-69834a5dbaf8",
   "metadata": {},
   "outputs": [
    {
     "data": {
      "text/html": [
       "<div>\n",
       "<style scoped>\n",
       "    .dataframe tbody tr th:only-of-type {\n",
       "        vertical-align: middle;\n",
       "    }\n",
       "\n",
       "    .dataframe tbody tr th {\n",
       "        vertical-align: top;\n",
       "    }\n",
       "\n",
       "    .dataframe thead th {\n",
       "        text-align: right;\n",
       "    }\n",
       "</style>\n",
       "<table border=\"1\" class=\"dataframe\">\n",
       "  <thead>\n",
       "    <tr style=\"text-align: right;\">\n",
       "      <th></th>\n",
       "      <th>customer_zip_code_prefix</th>\n",
       "    </tr>\n",
       "  </thead>\n",
       "  <tbody>\n",
       "    <tr>\n",
       "      <th>count</th>\n",
       "      <td>99441.000000</td>\n",
       "    </tr>\n",
       "    <tr>\n",
       "      <th>mean</th>\n",
       "      <td>35137.474583</td>\n",
       "    </tr>\n",
       "    <tr>\n",
       "      <th>std</th>\n",
       "      <td>29797.938996</td>\n",
       "    </tr>\n",
       "    <tr>\n",
       "      <th>min</th>\n",
       "      <td>1003.000000</td>\n",
       "    </tr>\n",
       "    <tr>\n",
       "      <th>25%</th>\n",
       "      <td>11347.000000</td>\n",
       "    </tr>\n",
       "    <tr>\n",
       "      <th>50%</th>\n",
       "      <td>24416.000000</td>\n",
       "    </tr>\n",
       "    <tr>\n",
       "      <th>75%</th>\n",
       "      <td>58900.000000</td>\n",
       "    </tr>\n",
       "    <tr>\n",
       "      <th>max</th>\n",
       "      <td>99990.000000</td>\n",
       "    </tr>\n",
       "  </tbody>\n",
       "</table>\n",
       "</div>"
      ],
      "text/plain": [
       "       customer_zip_code_prefix\n",
       "count              99441.000000\n",
       "mean               35137.474583\n",
       "std                29797.938996\n",
       "min                 1003.000000\n",
       "25%                11347.000000\n",
       "50%                24416.000000\n",
       "75%                58900.000000\n",
       "max                99990.000000"
      ]
     },
     "execution_count": 5,
     "metadata": {},
     "output_type": "execute_result"
    }
   ],
   "source": [
    "customers.describe()"
   ]
  },
  {
   "cell_type": "code",
   "execution_count": 6,
   "id": "65a4345a-75e5-4673-969f-2ed61865ec55",
   "metadata": {},
   "outputs": [
    {
     "data": {
      "text/html": [
       "<div>\n",
       "<style scoped>\n",
       "    .dataframe tbody tr th:only-of-type {\n",
       "        vertical-align: middle;\n",
       "    }\n",
       "\n",
       "    .dataframe tbody tr th {\n",
       "        vertical-align: top;\n",
       "    }\n",
       "\n",
       "    .dataframe thead th {\n",
       "        text-align: right;\n",
       "    }\n",
       "</style>\n",
       "<table border=\"1\" class=\"dataframe\">\n",
       "  <thead>\n",
       "    <tr style=\"text-align: right;\">\n",
       "      <th></th>\n",
       "      <th>geolocation_zip_code_prefix</th>\n",
       "      <th>geolocation_lat</th>\n",
       "      <th>geolocation_lng</th>\n",
       "      <th>geolocation_city</th>\n",
       "      <th>geolocation_state</th>\n",
       "    </tr>\n",
       "  </thead>\n",
       "  <tbody>\n",
       "    <tr>\n",
       "      <th>0</th>\n",
       "      <td>1037</td>\n",
       "      <td>-23.545621</td>\n",
       "      <td>-46.639292</td>\n",
       "      <td>sao paulo</td>\n",
       "      <td>SP</td>\n",
       "    </tr>\n",
       "    <tr>\n",
       "      <th>1</th>\n",
       "      <td>1046</td>\n",
       "      <td>-23.546081</td>\n",
       "      <td>-46.644820</td>\n",
       "      <td>sao paulo</td>\n",
       "      <td>SP</td>\n",
       "    </tr>\n",
       "    <tr>\n",
       "      <th>2</th>\n",
       "      <td>1046</td>\n",
       "      <td>-23.546129</td>\n",
       "      <td>-46.642951</td>\n",
       "      <td>sao paulo</td>\n",
       "      <td>SP</td>\n",
       "    </tr>\n",
       "    <tr>\n",
       "      <th>3</th>\n",
       "      <td>1041</td>\n",
       "      <td>-23.544392</td>\n",
       "      <td>-46.639499</td>\n",
       "      <td>sao paulo</td>\n",
       "      <td>SP</td>\n",
       "    </tr>\n",
       "    <tr>\n",
       "      <th>4</th>\n",
       "      <td>1035</td>\n",
       "      <td>-23.541578</td>\n",
       "      <td>-46.641607</td>\n",
       "      <td>sao paulo</td>\n",
       "      <td>SP</td>\n",
       "    </tr>\n",
       "  </tbody>\n",
       "</table>\n",
       "</div>"
      ],
      "text/plain": [
       "   geolocation_zip_code_prefix  geolocation_lat  geolocation_lng  \\\n",
       "0                         1037       -23.545621       -46.639292   \n",
       "1                         1046       -23.546081       -46.644820   \n",
       "2                         1046       -23.546129       -46.642951   \n",
       "3                         1041       -23.544392       -46.639499   \n",
       "4                         1035       -23.541578       -46.641607   \n",
       "\n",
       "  geolocation_city geolocation_state  \n",
       "0        sao paulo                SP  \n",
       "1        sao paulo                SP  \n",
       "2        sao paulo                SP  \n",
       "3        sao paulo                SP  \n",
       "4        sao paulo                SP  "
      ]
     },
     "execution_count": 6,
     "metadata": {},
     "output_type": "execute_result"
    }
   ],
   "source": [
    "geolocalisation.head(5)"
   ]
  },
  {
   "cell_type": "code",
   "execution_count": 7,
   "id": "850455d7-de86-49ff-836a-4f84bc63a560",
   "metadata": {},
   "outputs": [
    {
     "data": {
      "text/html": [
       "<div>\n",
       "<style scoped>\n",
       "    .dataframe tbody tr th:only-of-type {\n",
       "        vertical-align: middle;\n",
       "    }\n",
       "\n",
       "    .dataframe tbody tr th {\n",
       "        vertical-align: top;\n",
       "    }\n",
       "\n",
       "    .dataframe thead th {\n",
       "        text-align: right;\n",
       "    }\n",
       "</style>\n",
       "<table border=\"1\" class=\"dataframe\">\n",
       "  <thead>\n",
       "    <tr style=\"text-align: right;\">\n",
       "      <th></th>\n",
       "      <th>geolocation_zip_code_prefix</th>\n",
       "      <th>geolocation_lat</th>\n",
       "      <th>geolocation_lng</th>\n",
       "    </tr>\n",
       "  </thead>\n",
       "  <tbody>\n",
       "    <tr>\n",
       "      <th>count</th>\n",
       "      <td>1.000163e+06</td>\n",
       "      <td>1.000163e+06</td>\n",
       "      <td>1.000163e+06</td>\n",
       "    </tr>\n",
       "    <tr>\n",
       "      <th>mean</th>\n",
       "      <td>3.657417e+04</td>\n",
       "      <td>-2.117615e+01</td>\n",
       "      <td>-4.639054e+01</td>\n",
       "    </tr>\n",
       "    <tr>\n",
       "      <th>std</th>\n",
       "      <td>3.054934e+04</td>\n",
       "      <td>5.715866e+00</td>\n",
       "      <td>4.269748e+00</td>\n",
       "    </tr>\n",
       "    <tr>\n",
       "      <th>min</th>\n",
       "      <td>1.001000e+03</td>\n",
       "      <td>-3.660537e+01</td>\n",
       "      <td>-1.014668e+02</td>\n",
       "    </tr>\n",
       "    <tr>\n",
       "      <th>25%</th>\n",
       "      <td>1.107500e+04</td>\n",
       "      <td>-2.360355e+01</td>\n",
       "      <td>-4.857317e+01</td>\n",
       "    </tr>\n",
       "    <tr>\n",
       "      <th>50%</th>\n",
       "      <td>2.653000e+04</td>\n",
       "      <td>-2.291938e+01</td>\n",
       "      <td>-4.663788e+01</td>\n",
       "    </tr>\n",
       "    <tr>\n",
       "      <th>75%</th>\n",
       "      <td>6.350400e+04</td>\n",
       "      <td>-1.997962e+01</td>\n",
       "      <td>-4.376771e+01</td>\n",
       "    </tr>\n",
       "    <tr>\n",
       "      <th>max</th>\n",
       "      <td>9.999000e+04</td>\n",
       "      <td>4.506593e+01</td>\n",
       "      <td>1.211054e+02</td>\n",
       "    </tr>\n",
       "  </tbody>\n",
       "</table>\n",
       "</div>"
      ],
      "text/plain": [
       "       geolocation_zip_code_prefix  geolocation_lat  geolocation_lng\n",
       "count                 1.000163e+06     1.000163e+06     1.000163e+06\n",
       "mean                  3.657417e+04    -2.117615e+01    -4.639054e+01\n",
       "std                   3.054934e+04     5.715866e+00     4.269748e+00\n",
       "min                   1.001000e+03    -3.660537e+01    -1.014668e+02\n",
       "25%                   1.107500e+04    -2.360355e+01    -4.857317e+01\n",
       "50%                   2.653000e+04    -2.291938e+01    -4.663788e+01\n",
       "75%                   6.350400e+04    -1.997962e+01    -4.376771e+01\n",
       "max                   9.999000e+04     4.506593e+01     1.211054e+02"
      ]
     },
     "execution_count": 7,
     "metadata": {},
     "output_type": "execute_result"
    }
   ],
   "source": [
    "geolocalisation.describe()"
   ]
  },
  {
   "cell_type": "code",
   "execution_count": 8,
   "id": "87bf1249-06a6-4dc0-8809-08bcde3f92bc",
   "metadata": {},
   "outputs": [
    {
     "data": {
      "text/html": [
       "<div>\n",
       "<style scoped>\n",
       "    .dataframe tbody tr th:only-of-type {\n",
       "        vertical-align: middle;\n",
       "    }\n",
       "\n",
       "    .dataframe tbody tr th {\n",
       "        vertical-align: top;\n",
       "    }\n",
       "\n",
       "    .dataframe thead th {\n",
       "        text-align: right;\n",
       "    }\n",
       "</style>\n",
       "<table border=\"1\" class=\"dataframe\">\n",
       "  <thead>\n",
       "    <tr style=\"text-align: right;\">\n",
       "      <th></th>\n",
       "      <th>order_id</th>\n",
       "      <th>order_item_id</th>\n",
       "      <th>product_id</th>\n",
       "      <th>seller_id</th>\n",
       "      <th>shipping_limit_date</th>\n",
       "      <th>price</th>\n",
       "      <th>freight_value</th>\n",
       "    </tr>\n",
       "  </thead>\n",
       "  <tbody>\n",
       "    <tr>\n",
       "      <th>0</th>\n",
       "      <td>00010242fe8c5a6d1ba2dd792cb16214</td>\n",
       "      <td>1</td>\n",
       "      <td>4244733e06e7ecb4970a6e2683c13e61</td>\n",
       "      <td>48436dade18ac8b2bce089ec2a041202</td>\n",
       "      <td>19/09/2017 09:45</td>\n",
       "      <td>58.90</td>\n",
       "      <td>13.29</td>\n",
       "    </tr>\n",
       "    <tr>\n",
       "      <th>1</th>\n",
       "      <td>00018f77f2f0320c557190d7a144bdd3</td>\n",
       "      <td>1</td>\n",
       "      <td>e5f2d52b802189ee658865ca93d83a8f</td>\n",
       "      <td>dd7ddc04e1b6c2c614352b383efe2d36</td>\n",
       "      <td>03/05/2017 11:05</td>\n",
       "      <td>239.90</td>\n",
       "      <td>19.93</td>\n",
       "    </tr>\n",
       "    <tr>\n",
       "      <th>2</th>\n",
       "      <td>000229ec398224ef6ca0657da4fc703e</td>\n",
       "      <td>1</td>\n",
       "      <td>c777355d18b72b67abbeef9df44fd0fd</td>\n",
       "      <td>5b51032eddd242adc84c38acab88f23d</td>\n",
       "      <td>18/01/2018 14:48</td>\n",
       "      <td>199.00</td>\n",
       "      <td>17.87</td>\n",
       "    </tr>\n",
       "    <tr>\n",
       "      <th>3</th>\n",
       "      <td>00024acbcdf0a6daa1e931b038114c75</td>\n",
       "      <td>1</td>\n",
       "      <td>7634da152a4610f1595efa32f14722fc</td>\n",
       "      <td>9d7a1d34a5052409006425275ba1c2b4</td>\n",
       "      <td>15/08/2018 10:10</td>\n",
       "      <td>12.99</td>\n",
       "      <td>12.79</td>\n",
       "    </tr>\n",
       "    <tr>\n",
       "      <th>4</th>\n",
       "      <td>00042b26cf59d7ce69dfabb4e55b4fd9</td>\n",
       "      <td>1</td>\n",
       "      <td>ac6c3623068f30de03045865e4e10089</td>\n",
       "      <td>df560393f3a51e74553ab94004ba5c87</td>\n",
       "      <td>13/02/2017 13:57</td>\n",
       "      <td>199.90</td>\n",
       "      <td>18.14</td>\n",
       "    </tr>\n",
       "  </tbody>\n",
       "</table>\n",
       "</div>"
      ],
      "text/plain": [
       "                           order_id  order_item_id  \\\n",
       "0  00010242fe8c5a6d1ba2dd792cb16214              1   \n",
       "1  00018f77f2f0320c557190d7a144bdd3              1   \n",
       "2  000229ec398224ef6ca0657da4fc703e              1   \n",
       "3  00024acbcdf0a6daa1e931b038114c75              1   \n",
       "4  00042b26cf59d7ce69dfabb4e55b4fd9              1   \n",
       "\n",
       "                         product_id                         seller_id  \\\n",
       "0  4244733e06e7ecb4970a6e2683c13e61  48436dade18ac8b2bce089ec2a041202   \n",
       "1  e5f2d52b802189ee658865ca93d83a8f  dd7ddc04e1b6c2c614352b383efe2d36   \n",
       "2  c777355d18b72b67abbeef9df44fd0fd  5b51032eddd242adc84c38acab88f23d   \n",
       "3  7634da152a4610f1595efa32f14722fc  9d7a1d34a5052409006425275ba1c2b4   \n",
       "4  ac6c3623068f30de03045865e4e10089  df560393f3a51e74553ab94004ba5c87   \n",
       "\n",
       "  shipping_limit_date   price  freight_value  \n",
       "0    19/09/2017 09:45   58.90          13.29  \n",
       "1    03/05/2017 11:05  239.90          19.93  \n",
       "2    18/01/2018 14:48  199.00          17.87  \n",
       "3    15/08/2018 10:10   12.99          12.79  \n",
       "4    13/02/2017 13:57  199.90          18.14  "
      ]
     },
     "execution_count": 8,
     "metadata": {},
     "output_type": "execute_result"
    }
   ],
   "source": [
    "\n",
    "order_items.head()"
   ]
  },
  {
   "cell_type": "code",
   "execution_count": 9,
   "id": "211876ef-74e4-47bc-b808-7aaa6c01c17c",
   "metadata": {},
   "outputs": [
    {
     "data": {
      "text/html": [
       "<div>\n",
       "<style scoped>\n",
       "    .dataframe tbody tr th:only-of-type {\n",
       "        vertical-align: middle;\n",
       "    }\n",
       "\n",
       "    .dataframe tbody tr th {\n",
       "        vertical-align: top;\n",
       "    }\n",
       "\n",
       "    .dataframe thead th {\n",
       "        text-align: right;\n",
       "    }\n",
       "</style>\n",
       "<table border=\"1\" class=\"dataframe\">\n",
       "  <thead>\n",
       "    <tr style=\"text-align: right;\">\n",
       "      <th></th>\n",
       "      <th>order_id</th>\n",
       "      <th>payment_sequential</th>\n",
       "      <th>payment_type</th>\n",
       "      <th>payment_installments</th>\n",
       "      <th>payment_value</th>\n",
       "    </tr>\n",
       "  </thead>\n",
       "  <tbody>\n",
       "    <tr>\n",
       "      <th>0</th>\n",
       "      <td>b81ef226f3fe1789b1e8b2acac839d17</td>\n",
       "      <td>1</td>\n",
       "      <td>credit_card</td>\n",
       "      <td>8</td>\n",
       "      <td>99.33</td>\n",
       "    </tr>\n",
       "    <tr>\n",
       "      <th>1</th>\n",
       "      <td>a9810da82917af2d9aefd1278f1dcfa0</td>\n",
       "      <td>1</td>\n",
       "      <td>credit_card</td>\n",
       "      <td>1</td>\n",
       "      <td>24.39</td>\n",
       "    </tr>\n",
       "    <tr>\n",
       "      <th>2</th>\n",
       "      <td>25e8ea4e93396b6fa0d3dd708e76c1bd</td>\n",
       "      <td>1</td>\n",
       "      <td>credit_card</td>\n",
       "      <td>1</td>\n",
       "      <td>65.71</td>\n",
       "    </tr>\n",
       "    <tr>\n",
       "      <th>3</th>\n",
       "      <td>ba78997921bbcdc1373bb41e913ab953</td>\n",
       "      <td>1</td>\n",
       "      <td>credit_card</td>\n",
       "      <td>8</td>\n",
       "      <td>107.78</td>\n",
       "    </tr>\n",
       "    <tr>\n",
       "      <th>4</th>\n",
       "      <td>42fdf880ba16b47b59251dd489d4441a</td>\n",
       "      <td>1</td>\n",
       "      <td>credit_card</td>\n",
       "      <td>2</td>\n",
       "      <td>128.45</td>\n",
       "    </tr>\n",
       "    <tr>\n",
       "      <th>5</th>\n",
       "      <td>298fcdf1f73eb413e4d26d01b25bc1cd</td>\n",
       "      <td>1</td>\n",
       "      <td>credit_card</td>\n",
       "      <td>2</td>\n",
       "      <td>96.12</td>\n",
       "    </tr>\n",
       "  </tbody>\n",
       "</table>\n",
       "</div>"
      ],
      "text/plain": [
       "                           order_id  payment_sequential payment_type  \\\n",
       "0  b81ef226f3fe1789b1e8b2acac839d17                   1  credit_card   \n",
       "1  a9810da82917af2d9aefd1278f1dcfa0                   1  credit_card   \n",
       "2  25e8ea4e93396b6fa0d3dd708e76c1bd                   1  credit_card   \n",
       "3  ba78997921bbcdc1373bb41e913ab953                   1  credit_card   \n",
       "4  42fdf880ba16b47b59251dd489d4441a                   1  credit_card   \n",
       "5  298fcdf1f73eb413e4d26d01b25bc1cd                   1  credit_card   \n",
       "\n",
       "   payment_installments  payment_value  \n",
       "0                     8          99.33  \n",
       "1                     1          24.39  \n",
       "2                     1          65.71  \n",
       "3                     8         107.78  \n",
       "4                     2         128.45  \n",
       "5                     2          96.12  "
      ]
     },
     "execution_count": 9,
     "metadata": {},
     "output_type": "execute_result"
    }
   ],
   "source": [
    "\n",
    "order_payments.head(6)"
   ]
  },
  {
   "cell_type": "code",
   "execution_count": 10,
   "id": "9a25cbe4-562a-4a49-a0c4-463ff418d9ab",
   "metadata": {},
   "outputs": [
    {
     "data": {
      "text/html": [
       "<div>\n",
       "<style scoped>\n",
       "    .dataframe tbody tr th:only-of-type {\n",
       "        vertical-align: middle;\n",
       "    }\n",
       "\n",
       "    .dataframe tbody tr th {\n",
       "        vertical-align: top;\n",
       "    }\n",
       "\n",
       "    .dataframe thead th {\n",
       "        text-align: right;\n",
       "    }\n",
       "</style>\n",
       "<table border=\"1\" class=\"dataframe\">\n",
       "  <thead>\n",
       "    <tr style=\"text-align: right;\">\n",
       "      <th></th>\n",
       "      <th>review_id</th>\n",
       "      <th>order_id</th>\n",
       "      <th>review_score</th>\n",
       "      <th>review_comment_title</th>\n",
       "      <th>review_comment_message</th>\n",
       "      <th>review_creation_date</th>\n",
       "      <th>review_answer_timestamp</th>\n",
       "    </tr>\n",
       "  </thead>\n",
       "  <tbody>\n",
       "    <tr>\n",
       "      <th>0</th>\n",
       "      <td>7bc2406110b926393aa56f80a40eba40</td>\n",
       "      <td>73fc7af87114b39712e6da79b0a377eb</td>\n",
       "      <td>4</td>\n",
       "      <td>NaN</td>\n",
       "      <td>NaN</td>\n",
       "      <td>18/01/2018 00:00</td>\n",
       "      <td>18/01/2018 21:46</td>\n",
       "    </tr>\n",
       "    <tr>\n",
       "      <th>1</th>\n",
       "      <td>80e641a11e56f04c1ad469d5645fdfde</td>\n",
       "      <td>a548910a1c6147796b98fdf73dbeba33</td>\n",
       "      <td>5</td>\n",
       "      <td>NaN</td>\n",
       "      <td>NaN</td>\n",
       "      <td>10/03/2018 00:00</td>\n",
       "      <td>11/03/2018 03:05</td>\n",
       "    </tr>\n",
       "    <tr>\n",
       "      <th>2</th>\n",
       "      <td>228ce5500dc1d8e020d8d1322874b6f0</td>\n",
       "      <td>f9e4b658b201a9f2ecdecbb34bed034b</td>\n",
       "      <td>5</td>\n",
       "      <td>NaN</td>\n",
       "      <td>NaN</td>\n",
       "      <td>17/02/2018 00:00</td>\n",
       "      <td>18/02/2018 14:36</td>\n",
       "    </tr>\n",
       "    <tr>\n",
       "      <th>3</th>\n",
       "      <td>e64fb393e7b32834bb789ff8bb30750e</td>\n",
       "      <td>658677c97b385a9be170737859d3511b</td>\n",
       "      <td>5</td>\n",
       "      <td>NaN</td>\n",
       "      <td>Recebi bem antes do prazo estipulado.</td>\n",
       "      <td>21/04/2017 00:00</td>\n",
       "      <td>21/04/2017 22:02</td>\n",
       "    </tr>\n",
       "    <tr>\n",
       "      <th>4</th>\n",
       "      <td>f7c4243c7fe1938f181bec41a392bdeb</td>\n",
       "      <td>8e6bfb81e283fa7e4f11123a3fb894f1</td>\n",
       "      <td>5</td>\n",
       "      <td>NaN</td>\n",
       "      <td>Parabéns lojas lannister adorei comprar pela I...</td>\n",
       "      <td>01/03/2018 00:00</td>\n",
       "      <td>02/03/2018 10:26</td>\n",
       "    </tr>\n",
       "  </tbody>\n",
       "</table>\n",
       "</div>"
      ],
      "text/plain": [
       "                          review_id                          order_id  \\\n",
       "0  7bc2406110b926393aa56f80a40eba40  73fc7af87114b39712e6da79b0a377eb   \n",
       "1  80e641a11e56f04c1ad469d5645fdfde  a548910a1c6147796b98fdf73dbeba33   \n",
       "2  228ce5500dc1d8e020d8d1322874b6f0  f9e4b658b201a9f2ecdecbb34bed034b   \n",
       "3  e64fb393e7b32834bb789ff8bb30750e  658677c97b385a9be170737859d3511b   \n",
       "4  f7c4243c7fe1938f181bec41a392bdeb  8e6bfb81e283fa7e4f11123a3fb894f1   \n",
       "\n",
       "  review_score review_comment_title  \\\n",
       "0            4                  NaN   \n",
       "1            5                  NaN   \n",
       "2            5                  NaN   \n",
       "3            5                  NaN   \n",
       "4            5                  NaN   \n",
       "\n",
       "                              review_comment_message review_creation_date  \\\n",
       "0                                                NaN     18/01/2018 00:00   \n",
       "1                                                NaN     10/03/2018 00:00   \n",
       "2                                                NaN     17/02/2018 00:00   \n",
       "3              Recebi bem antes do prazo estipulado.     21/04/2017 00:00   \n",
       "4  Parabéns lojas lannister adorei comprar pela I...     01/03/2018 00:00   \n",
       "\n",
       "  review_answer_timestamp  \n",
       "0        18/01/2018 21:46  \n",
       "1        11/03/2018 03:05  \n",
       "2        18/02/2018 14:36  \n",
       "3        21/04/2017 22:02  \n",
       "4        02/03/2018 10:26  "
      ]
     },
     "execution_count": 10,
     "metadata": {},
     "output_type": "execute_result"
    }
   ],
   "source": [
    "\n",
    "order_reviews.head()"
   ]
  },
  {
   "cell_type": "code",
   "execution_count": 11,
   "id": "a5b525db-2fde-49b0-8af1-466de574f1d0",
   "metadata": {},
   "outputs": [
    {
     "data": {
      "text/html": [
       "<div>\n",
       "<style scoped>\n",
       "    .dataframe tbody tr th:only-of-type {\n",
       "        vertical-align: middle;\n",
       "    }\n",
       "\n",
       "    .dataframe tbody tr th {\n",
       "        vertical-align: top;\n",
       "    }\n",
       "\n",
       "    .dataframe thead th {\n",
       "        text-align: right;\n",
       "    }\n",
       "</style>\n",
       "<table border=\"1\" class=\"dataframe\">\n",
       "  <thead>\n",
       "    <tr style=\"text-align: right;\">\n",
       "      <th></th>\n",
       "      <th>order_id</th>\n",
       "      <th>customer_id</th>\n",
       "      <th>order_status</th>\n",
       "      <th>order_purchase_timestamp</th>\n",
       "      <th>order_approved_at</th>\n",
       "      <th>order_delivered_carrier_date</th>\n",
       "      <th>order_delivered_customer_date</th>\n",
       "      <th>order_estimated_delivery_date</th>\n",
       "    </tr>\n",
       "  </thead>\n",
       "  <tbody>\n",
       "    <tr>\n",
       "      <th>0</th>\n",
       "      <td>e481f51cbdc54678b7cc49136f2d6af7</td>\n",
       "      <td>9ef432eb6251297304e76186b10a928d</td>\n",
       "      <td>delivered</td>\n",
       "      <td>02/10/2017 10:56</td>\n",
       "      <td>02/10/2017 11:07</td>\n",
       "      <td>04/10/2017 19:55</td>\n",
       "      <td>10/10/2017 21:25</td>\n",
       "      <td>18/10/2017 00:00</td>\n",
       "    </tr>\n",
       "    <tr>\n",
       "      <th>1</th>\n",
       "      <td>53cdb2fc8bc7dce0b6741e2150273451</td>\n",
       "      <td>b0830fb4747a6c6d20dea0b8c802d7ef</td>\n",
       "      <td>delivered</td>\n",
       "      <td>24/07/2018 20:41</td>\n",
       "      <td>26/07/2018 03:24</td>\n",
       "      <td>26/07/2018 14:31</td>\n",
       "      <td>07/08/2018 15:27</td>\n",
       "      <td>13/08/2018 00:00</td>\n",
       "    </tr>\n",
       "    <tr>\n",
       "      <th>2</th>\n",
       "      <td>47770eb9100c2d0c44946d9cf07ec65d</td>\n",
       "      <td>41ce2a54c0b03bf3443c3d931a367089</td>\n",
       "      <td>delivered</td>\n",
       "      <td>08/08/2018 08:38</td>\n",
       "      <td>08/08/2018 08:55</td>\n",
       "      <td>08/08/2018 13:50</td>\n",
       "      <td>17/08/2018 18:06</td>\n",
       "      <td>04/09/2018 00:00</td>\n",
       "    </tr>\n",
       "    <tr>\n",
       "      <th>3</th>\n",
       "      <td>949d5b44dbf5de918fe9c16f97b45f8a</td>\n",
       "      <td>f88197465ea7920adcdbec7375364d82</td>\n",
       "      <td>delivered</td>\n",
       "      <td>18/11/2017 19:28</td>\n",
       "      <td>18/11/2017 19:45</td>\n",
       "      <td>22/11/2017 13:39</td>\n",
       "      <td>02/12/2017 00:28</td>\n",
       "      <td>15/12/2017 00:00</td>\n",
       "    </tr>\n",
       "  </tbody>\n",
       "</table>\n",
       "</div>"
      ],
      "text/plain": [
       "                           order_id                       customer_id  \\\n",
       "0  e481f51cbdc54678b7cc49136f2d6af7  9ef432eb6251297304e76186b10a928d   \n",
       "1  53cdb2fc8bc7dce0b6741e2150273451  b0830fb4747a6c6d20dea0b8c802d7ef   \n",
       "2  47770eb9100c2d0c44946d9cf07ec65d  41ce2a54c0b03bf3443c3d931a367089   \n",
       "3  949d5b44dbf5de918fe9c16f97b45f8a  f88197465ea7920adcdbec7375364d82   \n",
       "\n",
       "  order_status order_purchase_timestamp order_approved_at  \\\n",
       "0    delivered         02/10/2017 10:56  02/10/2017 11:07   \n",
       "1    delivered         24/07/2018 20:41  26/07/2018 03:24   \n",
       "2    delivered         08/08/2018 08:38  08/08/2018 08:55   \n",
       "3    delivered         18/11/2017 19:28  18/11/2017 19:45   \n",
       "\n",
       "  order_delivered_carrier_date order_delivered_customer_date  \\\n",
       "0             04/10/2017 19:55              10/10/2017 21:25   \n",
       "1             26/07/2018 14:31              07/08/2018 15:27   \n",
       "2             08/08/2018 13:50              17/08/2018 18:06   \n",
       "3             22/11/2017 13:39              02/12/2017 00:28   \n",
       "\n",
       "  order_estimated_delivery_date  \n",
       "0              18/10/2017 00:00  \n",
       "1              13/08/2018 00:00  \n",
       "2              04/09/2018 00:00  \n",
       "3              15/12/2017 00:00  "
      ]
     },
     "execution_count": 11,
     "metadata": {},
     "output_type": "execute_result"
    }
   ],
   "source": [
    "\n",
    "orders.head(4)"
   ]
  },
  {
   "cell_type": "code",
   "execution_count": null,
   "id": "6447043f-d60c-422e-936b-b3398cd9f948",
   "metadata": {},
   "outputs": [],
   "source": []
  },
  {
   "cell_type": "code",
   "execution_count": 12,
   "id": "7828a1b6-de5e-4d94-b4a4-909a29ff662f",
   "metadata": {},
   "outputs": [
    {
     "data": {
      "text/html": [
       "<div>\n",
       "<style scoped>\n",
       "    .dataframe tbody tr th:only-of-type {\n",
       "        vertical-align: middle;\n",
       "    }\n",
       "\n",
       "    .dataframe tbody tr th {\n",
       "        vertical-align: top;\n",
       "    }\n",
       "\n",
       "    .dataframe thead th {\n",
       "        text-align: right;\n",
       "    }\n",
       "</style>\n",
       "<table border=\"1\" class=\"dataframe\">\n",
       "  <thead>\n",
       "    <tr style=\"text-align: right;\">\n",
       "      <th></th>\n",
       "      <th>product_id</th>\n",
       "      <th>product_category_name</th>\n",
       "      <th>product_name_lenght</th>\n",
       "      <th>product_description_lenght</th>\n",
       "      <th>product_photos_qty</th>\n",
       "      <th>product_weight_g</th>\n",
       "      <th>product_length_cm</th>\n",
       "      <th>product_height_cm</th>\n",
       "      <th>product_width_cm</th>\n",
       "    </tr>\n",
       "  </thead>\n",
       "  <tbody>\n",
       "    <tr>\n",
       "      <th>0</th>\n",
       "      <td>1e9e8ef04dbcff4541ed26657ea517e5</td>\n",
       "      <td>perfumaria</td>\n",
       "      <td>40.0</td>\n",
       "      <td>287.0</td>\n",
       "      <td>1.0</td>\n",
       "      <td>225.0</td>\n",
       "      <td>16.0</td>\n",
       "      <td>10.0</td>\n",
       "      <td>14.0</td>\n",
       "    </tr>\n",
       "    <tr>\n",
       "      <th>1</th>\n",
       "      <td>3aa071139cb16b67ca9e5dea641aaa2f</td>\n",
       "      <td>artes</td>\n",
       "      <td>44.0</td>\n",
       "      <td>276.0</td>\n",
       "      <td>1.0</td>\n",
       "      <td>1000.0</td>\n",
       "      <td>30.0</td>\n",
       "      <td>18.0</td>\n",
       "      <td>20.0</td>\n",
       "    </tr>\n",
       "    <tr>\n",
       "      <th>2</th>\n",
       "      <td>96bd76ec8810374ed1b65e291975717f</td>\n",
       "      <td>esporte_lazer</td>\n",
       "      <td>46.0</td>\n",
       "      <td>250.0</td>\n",
       "      <td>1.0</td>\n",
       "      <td>154.0</td>\n",
       "      <td>18.0</td>\n",
       "      <td>9.0</td>\n",
       "      <td>15.0</td>\n",
       "    </tr>\n",
       "    <tr>\n",
       "      <th>3</th>\n",
       "      <td>cef67bcfe19066a932b7673e239eb23d</td>\n",
       "      <td>bebes</td>\n",
       "      <td>27.0</td>\n",
       "      <td>261.0</td>\n",
       "      <td>1.0</td>\n",
       "      <td>371.0</td>\n",
       "      <td>26.0</td>\n",
       "      <td>4.0</td>\n",
       "      <td>26.0</td>\n",
       "    </tr>\n",
       "    <tr>\n",
       "      <th>4</th>\n",
       "      <td>9dc1a7de274444849c219cff195d0b71</td>\n",
       "      <td>utilidades_domesticas</td>\n",
       "      <td>37.0</td>\n",
       "      <td>402.0</td>\n",
       "      <td>4.0</td>\n",
       "      <td>625.0</td>\n",
       "      <td>20.0</td>\n",
       "      <td>17.0</td>\n",
       "      <td>13.0</td>\n",
       "    </tr>\n",
       "  </tbody>\n",
       "</table>\n",
       "</div>"
      ],
      "text/plain": [
       "                         product_id  product_category_name  \\\n",
       "0  1e9e8ef04dbcff4541ed26657ea517e5             perfumaria   \n",
       "1  3aa071139cb16b67ca9e5dea641aaa2f                  artes   \n",
       "2  96bd76ec8810374ed1b65e291975717f          esporte_lazer   \n",
       "3  cef67bcfe19066a932b7673e239eb23d                  bebes   \n",
       "4  9dc1a7de274444849c219cff195d0b71  utilidades_domesticas   \n",
       "\n",
       "   product_name_lenght  product_description_lenght  product_photos_qty  \\\n",
       "0                 40.0                       287.0                 1.0   \n",
       "1                 44.0                       276.0                 1.0   \n",
       "2                 46.0                       250.0                 1.0   \n",
       "3                 27.0                       261.0                 1.0   \n",
       "4                 37.0                       402.0                 4.0   \n",
       "\n",
       "   product_weight_g  product_length_cm  product_height_cm  product_width_cm  \n",
       "0             225.0               16.0               10.0              14.0  \n",
       "1            1000.0               30.0               18.0              20.0  \n",
       "2             154.0               18.0                9.0              15.0  \n",
       "3             371.0               26.0                4.0              26.0  \n",
       "4             625.0               20.0               17.0              13.0  "
      ]
     },
     "execution_count": 12,
     "metadata": {},
     "output_type": "execute_result"
    }
   ],
   "source": [
    "\n",
    "products.head()\n"
   ]
  },
  {
   "cell_type": "code",
   "execution_count": null,
   "id": "5b9f0df9-fd73-48aa-afd4-0e75c2735086",
   "metadata": {},
   "outputs": [],
   "source": []
  },
  {
   "cell_type": "code",
   "execution_count": 13,
   "id": "8121a3ef-dc99-4c39-bf48-e3b0fc8da373",
   "metadata": {},
   "outputs": [
    {
     "data": {
      "text/html": [
       "<div>\n",
       "<style scoped>\n",
       "    .dataframe tbody tr th:only-of-type {\n",
       "        vertical-align: middle;\n",
       "    }\n",
       "\n",
       "    .dataframe tbody tr th {\n",
       "        vertical-align: top;\n",
       "    }\n",
       "\n",
       "    .dataframe thead th {\n",
       "        text-align: right;\n",
       "    }\n",
       "</style>\n",
       "<table border=\"1\" class=\"dataframe\">\n",
       "  <thead>\n",
       "    <tr style=\"text-align: right;\">\n",
       "      <th></th>\n",
       "      <th>seller_id</th>\n",
       "      <th>seller_zip_code_prefix</th>\n",
       "      <th>seller_city</th>\n",
       "      <th>seller_state</th>\n",
       "    </tr>\n",
       "  </thead>\n",
       "  <tbody>\n",
       "    <tr>\n",
       "      <th>0</th>\n",
       "      <td>3442f8959a84dea7ee197c632cb2df15</td>\n",
       "      <td>13023</td>\n",
       "      <td>campinas</td>\n",
       "      <td>SP</td>\n",
       "    </tr>\n",
       "    <tr>\n",
       "      <th>1</th>\n",
       "      <td>d1b65fc7debc3361ea86b5f14c68d2e2</td>\n",
       "      <td>13844</td>\n",
       "      <td>mogi guacu</td>\n",
       "      <td>SP</td>\n",
       "    </tr>\n",
       "    <tr>\n",
       "      <th>2</th>\n",
       "      <td>ce3ad9de960102d0677a81f5d0bb7b2d</td>\n",
       "      <td>20031</td>\n",
       "      <td>rio de janeiro</td>\n",
       "      <td>RJ</td>\n",
       "    </tr>\n",
       "    <tr>\n",
       "      <th>3</th>\n",
       "      <td>c0f3eea2e14555b6faeea3dd58c1b1c3</td>\n",
       "      <td>4195</td>\n",
       "      <td>sao paulo</td>\n",
       "      <td>SP</td>\n",
       "    </tr>\n",
       "    <tr>\n",
       "      <th>4</th>\n",
       "      <td>51a04a8a6bdcb23deccc82b0b80742cf</td>\n",
       "      <td>12914</td>\n",
       "      <td>braganca paulista</td>\n",
       "      <td>SP</td>\n",
       "    </tr>\n",
       "  </tbody>\n",
       "</table>\n",
       "</div>"
      ],
      "text/plain": [
       "                          seller_id  seller_zip_code_prefix  \\\n",
       "0  3442f8959a84dea7ee197c632cb2df15                   13023   \n",
       "1  d1b65fc7debc3361ea86b5f14c68d2e2                   13844   \n",
       "2  ce3ad9de960102d0677a81f5d0bb7b2d                   20031   \n",
       "3  c0f3eea2e14555b6faeea3dd58c1b1c3                    4195   \n",
       "4  51a04a8a6bdcb23deccc82b0b80742cf                   12914   \n",
       "\n",
       "         seller_city seller_state  \n",
       "0           campinas           SP  \n",
       "1         mogi guacu           SP  \n",
       "2     rio de janeiro           RJ  \n",
       "3          sao paulo           SP  \n",
       "4  braganca paulista           SP  "
      ]
     },
     "execution_count": 13,
     "metadata": {},
     "output_type": "execute_result"
    }
   ],
   "source": [
    "\n",
    "sellers.head()\n"
   ]
  },
  {
   "cell_type": "code",
   "execution_count": 14,
   "id": "b149f057-df66-4365-8ab5-80b22f82e054",
   "metadata": {},
   "outputs": [
    {
     "data": {
      "text/html": [
       "<div>\n",
       "<style scoped>\n",
       "    .dataframe tbody tr th:only-of-type {\n",
       "        vertical-align: middle;\n",
       "    }\n",
       "\n",
       "    .dataframe tbody tr th {\n",
       "        vertical-align: top;\n",
       "    }\n",
       "\n",
       "    .dataframe thead th {\n",
       "        text-align: right;\n",
       "    }\n",
       "</style>\n",
       "<table border=\"1\" class=\"dataframe\">\n",
       "  <thead>\n",
       "    <tr style=\"text-align: right;\">\n",
       "      <th></th>\n",
       "      <th>product_category_name</th>\n",
       "      <th>product_category_name_english</th>\n",
       "    </tr>\n",
       "  </thead>\n",
       "  <tbody>\n",
       "    <tr>\n",
       "      <th>0</th>\n",
       "      <td>beleza_saude</td>\n",
       "      <td>health_beauty</td>\n",
       "    </tr>\n",
       "    <tr>\n",
       "      <th>1</th>\n",
       "      <td>informatica_acessorios</td>\n",
       "      <td>computers_accessories</td>\n",
       "    </tr>\n",
       "    <tr>\n",
       "      <th>2</th>\n",
       "      <td>automotivo</td>\n",
       "      <td>auto</td>\n",
       "    </tr>\n",
       "    <tr>\n",
       "      <th>3</th>\n",
       "      <td>cama_mesa_banho</td>\n",
       "      <td>bed_bath_table</td>\n",
       "    </tr>\n",
       "    <tr>\n",
       "      <th>4</th>\n",
       "      <td>moveis_decoracao</td>\n",
       "      <td>furniture_decor</td>\n",
       "    </tr>\n",
       "    <tr>\n",
       "      <th>5</th>\n",
       "      <td>esporte_lazer</td>\n",
       "      <td>sports_leisure</td>\n",
       "    </tr>\n",
       "  </tbody>\n",
       "</table>\n",
       "</div>"
      ],
      "text/plain": [
       "    product_category_name product_category_name_english\n",
       "0            beleza_saude                 health_beauty\n",
       "1  informatica_acessorios         computers_accessories\n",
       "2              automotivo                          auto\n",
       "3         cama_mesa_banho                bed_bath_table\n",
       "4        moveis_decoracao               furniture_decor\n",
       "5           esporte_lazer                sports_leisure"
      ]
     },
     "execution_count": 14,
     "metadata": {},
     "output_type": "execute_result"
    }
   ],
   "source": [
    "translation.head(6)"
   ]
  },
  {
   "cell_type": "markdown",
   "id": "6043c361-160c-474d-97d3-63dce4824d07",
   "metadata": {},
   "source": [
    "# Valeurs manquantes"
   ]
  },
  {
   "cell_type": "code",
   "execution_count": 15,
   "id": "003ea4e9-77bc-47d0-9ebd-2b7cd8e74e38",
   "metadata": {},
   "outputs": [
    {
     "data": {
      "text/plain": [
       "customer_id                 0\n",
       "customer_unique_id          0\n",
       "customer_zip_code_prefix    0\n",
       "customer_city               0\n",
       "customer_state              0\n",
       "dtype: int64"
      ]
     },
     "execution_count": 15,
     "metadata": {},
     "output_type": "execute_result"
    }
   ],
   "source": [
    "customers.isna().sum()"
   ]
  },
  {
   "cell_type": "markdown",
   "id": "6c0f5e87-fd09-4e26-9d4c-d9e0ca632121",
   "metadata": {},
   "source": [
    "La Base client ne contient pas de valeurs abberrantes"
   ]
  },
  {
   "cell_type": "code",
   "execution_count": 16,
   "id": "96868c7d-7726-4036-8ccb-881398974760",
   "metadata": {},
   "outputs": [
    {
     "data": {
      "text/plain": [
       "0"
      ]
     },
     "execution_count": 16,
     "metadata": {},
     "output_type": "execute_result"
    }
   ],
   "source": [
    "customers.duplicated().sum()"
   ]
  },
  {
   "cell_type": "markdown",
   "id": "2188be10-7b9c-4f05-b35f-4fc0fbe584a3",
   "metadata": {},
   "source": [
    "La base client ne contient pas aussi de doublons"
   ]
  },
  {
   "cell_type": "code",
   "execution_count": 17,
   "id": "a16d52ac-282d-4ed4-9b84-75021a4dc3bf",
   "metadata": {},
   "outputs": [
    {
     "data": {
      "text/plain": [
       "geolocation_zip_code_prefix    0\n",
       "geolocation_lat                0\n",
       "geolocation_lng                0\n",
       "geolocation_city               0\n",
       "geolocation_state              1\n",
       "dtype: int64"
      ]
     },
     "execution_count": 17,
     "metadata": {},
     "output_type": "execute_result"
    }
   ],
   "source": [
    "geolocalisation.isna().sum()"
   ]
  },
  {
   "cell_type": "markdown",
   "id": "1be6c62e-480a-4161-97b7-38c13710d4f7",
   "metadata": {},
   "source": [
    "La base geolocalisation ne contient qu'une seule valeur manquante"
   ]
  },
  {
   "cell_type": "code",
   "execution_count": 18,
   "id": "8c6d1733-9a5b-41ea-b3a9-66eddc244d29",
   "metadata": {},
   "outputs": [
    {
     "data": {
      "text/plain": [
       "271585"
      ]
     },
     "execution_count": 18,
     "metadata": {},
     "output_type": "execute_result"
    }
   ],
   "source": [
    "geolocalisation.duplicated().sum()"
   ]
  },
  {
   "cell_type": "markdown",
   "id": "964f73b4-e35e-4923-a28a-93bea1861433",
   "metadata": {},
   "source": [
    "On a des doublons au niveau de la base geolocalisation."
   ]
  },
  {
   "cell_type": "code",
   "execution_count": 19,
   "id": "e9556ad6-f103-4153-88ff-507bbf019548",
   "metadata": {},
   "outputs": [
    {
     "data": {
      "text/plain": [
       "order_id               0\n",
       "order_item_id          0\n",
       "product_id             0\n",
       "seller_id              0\n",
       "shipping_limit_date    0\n",
       "price                  0\n",
       "freight_value          0\n",
       "dtype: int64"
      ]
     },
     "execution_count": 19,
     "metadata": {},
     "output_type": "execute_result"
    }
   ],
   "source": [
    "order_items.isna().sum()"
   ]
  },
  {
   "cell_type": "code",
   "execution_count": 20,
   "id": "d9a10220-5309-416c-90fb-7bc43470b3e2",
   "metadata": {
    "scrolled": true
   },
   "outputs": [
    {
     "data": {
      "text/plain": [
       "order_id                0\n",
       "payment_sequential      0\n",
       "payment_type            0\n",
       "payment_installments    0\n",
       "payment_value           0\n",
       "dtype: int64"
      ]
     },
     "execution_count": 20,
     "metadata": {},
     "output_type": "execute_result"
    }
   ],
   "source": [
    "order_payments.isna().sum()"
   ]
  },
  {
   "cell_type": "code",
   "execution_count": 21,
   "id": "bf360af6-598a-492e-8a25-ea423497e056",
   "metadata": {
    "scrolled": true
   },
   "outputs": [
    {
     "data": {
      "text/plain": [
       "review_id                   1859\n",
       "order_id                    1459\n",
       "review_score                1607\n",
       "review_comment_title       91491\n",
       "review_comment_message     62820\n",
       "review_creation_date        9320\n",
       "review_answer_timestamp     9338\n",
       "dtype: int64"
      ]
     },
     "execution_count": 21,
     "metadata": {},
     "output_type": "execute_result"
    }
   ],
   "source": [
    "order_reviews.isna().sum()"
   ]
  },
  {
   "cell_type": "code",
   "execution_count": 22,
   "id": "b054956f-7296-4f21-a805-1aa7644b0dcf",
   "metadata": {},
   "outputs": [
    {
     "data": {
      "text/plain": [
       "0         4\n",
       "1         5\n",
       "2         5\n",
       "3         5\n",
       "4         5\n",
       "         ..\n",
       "103326    5\n",
       "103327    5\n",
       "103328    5\n",
       "103329    4\n",
       "103330    1\n",
       "Name: review_score, Length: 103331, dtype: object"
      ]
     },
     "execution_count": 22,
     "metadata": {},
     "output_type": "execute_result"
    }
   ],
   "source": [
    "order_reviews.review_score"
   ]
  },
  {
   "cell_type": "markdown",
   "id": "18170fcf-5840-43e8-a561-1191bb421bd7",
   "metadata": {},
   "source": [
    "Pour order_reviews les valeurs manquantes correspondent à des commataires vides"
   ]
  },
  {
   "cell_type": "code",
   "execution_count": 23,
   "id": "08b13b51-65b2-4355-bb30-7a25cf600e0c",
   "metadata": {
    "scrolled": true
   },
   "outputs": [
    {
     "data": {
      "text/plain": [
       "order_id                            0\n",
       "customer_id                         0\n",
       "order_status                        0\n",
       "order_purchase_timestamp            0\n",
       "order_approved_at                 160\n",
       "order_delivered_carrier_date     1783\n",
       "order_delivered_customer_date    2965\n",
       "order_estimated_delivery_date       0\n",
       "dtype: int64"
      ]
     },
     "execution_count": 23,
     "metadata": {},
     "output_type": "execute_result"
    }
   ],
   "source": [
    "orders.isna().sum()"
   ]
  },
  {
   "cell_type": "code",
   "execution_count": 24,
   "id": "c10c3550-8cd2-4aea-8447-bc7512e2cc37",
   "metadata": {},
   "outputs": [
    {
     "data": {
      "text/plain": [
       "product_id                      0\n",
       "product_category_name         610\n",
       "product_name_lenght           610\n",
       "product_description_lenght    610\n",
       "product_photos_qty            610\n",
       "product_weight_g                2\n",
       "product_length_cm               2\n",
       "product_height_cm               2\n",
       "product_width_cm                2\n",
       "dtype: int64"
      ]
     },
     "execution_count": 24,
     "metadata": {},
     "output_type": "execute_result"
    }
   ],
   "source": [
    "products.isna().sum()"
   ]
  },
  {
   "cell_type": "code",
   "execution_count": 25,
   "id": "1ad2aae1-ba69-4b97-b103-c3e924d65785",
   "metadata": {
    "scrolled": true
   },
   "outputs": [
    {
     "data": {
      "text/html": [
       "<div>\n",
       "<style scoped>\n",
       "    .dataframe tbody tr th:only-of-type {\n",
       "        vertical-align: middle;\n",
       "    }\n",
       "\n",
       "    .dataframe tbody tr th {\n",
       "        vertical-align: top;\n",
       "    }\n",
       "\n",
       "    .dataframe thead th {\n",
       "        text-align: right;\n",
       "    }\n",
       "</style>\n",
       "<table border=\"1\" class=\"dataframe\">\n",
       "  <thead>\n",
       "    <tr style=\"text-align: right;\">\n",
       "      <th></th>\n",
       "      <th>product_id</th>\n",
       "      <th>product_category_name</th>\n",
       "      <th>product_name_lenght</th>\n",
       "      <th>product_description_lenght</th>\n",
       "      <th>product_photos_qty</th>\n",
       "      <th>product_weight_g</th>\n",
       "      <th>product_length_cm</th>\n",
       "      <th>product_height_cm</th>\n",
       "      <th>product_width_cm</th>\n",
       "    </tr>\n",
       "  </thead>\n",
       "  <tbody>\n",
       "    <tr>\n",
       "      <th>8591</th>\n",
       "      <td>d2eb4e94aeb255a953cbd8b97361a848</td>\n",
       "      <td>NaN</td>\n",
       "      <td>NaN</td>\n",
       "      <td>NaN</td>\n",
       "      <td>NaN</td>\n",
       "      <td>300.0</td>\n",
       "      <td>28.0</td>\n",
       "      <td>28.0</td>\n",
       "      <td>11.0</td>\n",
       "    </tr>\n",
       "    <tr>\n",
       "      <th>7530</th>\n",
       "      <td>270e70a55f9a0917f86b37cb32afcddd</td>\n",
       "      <td>NaN</td>\n",
       "      <td>NaN</td>\n",
       "      <td>NaN</td>\n",
       "      <td>NaN</td>\n",
       "      <td>300.0</td>\n",
       "      <td>30.0</td>\n",
       "      <td>6.0</td>\n",
       "      <td>12.0</td>\n",
       "    </tr>\n",
       "    <tr>\n",
       "      <th>15092</th>\n",
       "      <td>7dc0fd89c290eb0b3e5253d19be59f6f</td>\n",
       "      <td>NaN</td>\n",
       "      <td>NaN</td>\n",
       "      <td>NaN</td>\n",
       "      <td>NaN</td>\n",
       "      <td>800.0</td>\n",
       "      <td>20.0</td>\n",
       "      <td>25.0</td>\n",
       "      <td>20.0</td>\n",
       "    </tr>\n",
       "    <tr>\n",
       "      <th>28482</th>\n",
       "      <td>bd421826916d3e1d445cb860cea3c0fb</td>\n",
       "      <td>NaN</td>\n",
       "      <td>NaN</td>\n",
       "      <td>NaN</td>\n",
       "      <td>NaN</td>\n",
       "      <td>250.0</td>\n",
       "      <td>16.0</td>\n",
       "      <td>4.0</td>\n",
       "      <td>11.0</td>\n",
       "    </tr>\n",
       "    <tr>\n",
       "      <th>27965</th>\n",
       "      <td>72f399a2336a151acdb3a0a3b391f75a</td>\n",
       "      <td>NaN</td>\n",
       "      <td>NaN</td>\n",
       "      <td>NaN</td>\n",
       "      <td>NaN</td>\n",
       "      <td>1300.0</td>\n",
       "      <td>20.0</td>\n",
       "      <td>20.0</td>\n",
       "      <td>15.0</td>\n",
       "    </tr>\n",
       "  </tbody>\n",
       "</table>\n",
       "</div>"
      ],
      "text/plain": [
       "                             product_id product_category_name  \\\n",
       "8591   d2eb4e94aeb255a953cbd8b97361a848                   NaN   \n",
       "7530   270e70a55f9a0917f86b37cb32afcddd                   NaN   \n",
       "15092  7dc0fd89c290eb0b3e5253d19be59f6f                   NaN   \n",
       "28482  bd421826916d3e1d445cb860cea3c0fb                   NaN   \n",
       "27965  72f399a2336a151acdb3a0a3b391f75a                   NaN   \n",
       "\n",
       "       product_name_lenght  product_description_lenght  product_photos_qty  \\\n",
       "8591                   NaN                         NaN                 NaN   \n",
       "7530                   NaN                         NaN                 NaN   \n",
       "15092                  NaN                         NaN                 NaN   \n",
       "28482                  NaN                         NaN                 NaN   \n",
       "27965                  NaN                         NaN                 NaN   \n",
       "\n",
       "       product_weight_g  product_length_cm  product_height_cm  \\\n",
       "8591              300.0               28.0               28.0   \n",
       "7530              300.0               30.0                6.0   \n",
       "15092             800.0               20.0               25.0   \n",
       "28482             250.0               16.0                4.0   \n",
       "27965            1300.0               20.0               20.0   \n",
       "\n",
       "       product_width_cm  \n",
       "8591               11.0  \n",
       "7530               12.0  \n",
       "15092              20.0  \n",
       "28482              11.0  \n",
       "27965              15.0  "
      ]
     },
     "execution_count": 25,
     "metadata": {},
     "output_type": "execute_result"
    }
   ],
   "source": [
    "products[products['product_category_name'].isna()].sample(5)"
   ]
  },
  {
   "cell_type": "code",
   "execution_count": 26,
   "id": "3c2363ee",
   "metadata": {},
   "outputs": [
    {
     "data": {
      "text/plain": [
       "product_id                      0\n",
       "product_category_name         610\n",
       "product_name_lenght           610\n",
       "product_description_lenght    610\n",
       "product_photos_qty            610\n",
       "product_weight_g                2\n",
       "product_length_cm               2\n",
       "product_height_cm               2\n",
       "product_width_cm                2\n",
       "dtype: int64"
      ]
     },
     "execution_count": 26,
     "metadata": {},
     "output_type": "execute_result"
    }
   ],
   "source": [
    "products.isna().sum()"
   ]
  },
  {
   "cell_type": "markdown",
   "id": "b9e2e400-cb1a-4f23-a40e-e38b246d8233",
   "metadata": {},
   "source": [
    "Il y'a des produits dont leur catégorie n'est pas renseigné"
   ]
  },
  {
   "cell_type": "code",
   "execution_count": 27,
   "id": "6f4b6476-aae6-4af1-9adc-5bf9ec715308",
   "metadata": {
    "scrolled": true
   },
   "outputs": [
    {
     "data": {
      "text/plain": [
       "seller_id                 0\n",
       "seller_zip_code_prefix    0\n",
       "seller_city               0\n",
       "seller_state              0\n",
       "dtype: int64"
      ]
     },
     "execution_count": 27,
     "metadata": {},
     "output_type": "execute_result"
    }
   ],
   "source": [
    "sellers.isna().sum()"
   ]
  },
  {
   "cell_type": "code",
   "execution_count": 28,
   "id": "fcf62870-06ca-4b3e-a4e2-ae3c2ee9e92e",
   "metadata": {},
   "outputs": [
    {
     "data": {
      "text/plain": [
       "product_category_name            0\n",
       "product_category_name_english    0\n",
       "dtype: int64"
      ]
     },
     "execution_count": 28,
     "metadata": {},
     "output_type": "execute_result"
    }
   ],
   "source": [
    "translation.isna().sum()"
   ]
  },
  {
   "cell_type": "markdown",
   "id": "4705e44d-7aad-419a-8498-e0722c8a85d2",
   "metadata": {},
   "source": [
    "## Nettoyage des bases "
   ]
  },
  {
   "cell_type": "markdown",
   "id": "51d37e3d-034a-4429-a940-8f00ee90d8c3",
   "metadata": {},
   "source": [
    "* La Base geolocalisation"
   ]
  },
  {
   "cell_type": "code",
   "execution_count": 29,
   "id": "e5813008-4171-4507-8fd0-72a86b677c89",
   "metadata": {},
   "outputs": [],
   "source": [
    "geolocalisation_df=geolocalisation.copy()"
   ]
  },
  {
   "cell_type": "code",
   "execution_count": 30,
   "id": "a483c4ff-03a7-41e9-b3e1-83fe56fda987",
   "metadata": {},
   "outputs": [],
   "source": [
    "geolocalisation_df.drop_duplicates(inplace=True)"
   ]
  },
  {
   "cell_type": "code",
   "execution_count": 31,
   "id": "cd847174-ae0e-45a6-8118-f1077632ebad",
   "metadata": {},
   "outputs": [
    {
     "data": {
      "text/plain": [
       "0"
      ]
     },
     "execution_count": 31,
     "metadata": {},
     "output_type": "execute_result"
    }
   ],
   "source": [
    "geolocalisation_df.duplicated().sum()"
   ]
  },
  {
   "cell_type": "markdown",
   "id": "c03c3f3b-c681-49d1-a6aa-44e52fb11f47",
   "metadata": {},
   "source": [
    "Il n' y a plus de doublons sur la base ci-dessus."
   ]
  },
  {
   "cell_type": "markdown",
   "id": "3fae4133-dd45-4fa7-a294-a16670f1f234",
   "metadata": {},
   "source": [
    "* La base order_reviews"
   ]
  },
  {
   "cell_type": "code",
   "execution_count": 32,
   "id": "23b7cee7-0927-4764-a840-4cc3e2ce1ebd",
   "metadata": {},
   "outputs": [],
   "source": [
    "order_reviews_df=order_reviews.copy()"
   ]
  },
  {
   "cell_type": "markdown",
   "id": "a6b70201",
   "metadata": {},
   "source": [
    "On va attribuer une note de 3 pour les notes score qui ne sont pas renseignées car on fait l'hypothèse que si le client n'a pas donné une note, c'est parcequ'il est satisfait de la commande."
   ]
  },
  {
   "cell_type": "code",
   "execution_count": 33,
   "id": "8e6a480c-8a04-49fa-9403-433c01a0f2bb",
   "metadata": {},
   "outputs": [],
   "source": [
    "order_reviews_df['review_score'].fillna(3,inplace=True)"
   ]
  },
  {
   "cell_type": "code",
   "execution_count": 34,
   "id": "a34dd083",
   "metadata": {},
   "outputs": [],
   "source": [
    "order_reviews_df['review_comment_title'].fillna('NO COMMENT TITLE',inplace=True)\n",
    "order_reviews_df['review_comment_message'].fillna('NO COMMENT MESSAGE',inplace=True)"
   ]
  },
  {
   "cell_type": "code",
   "execution_count": 35,
   "id": "a79d77f8",
   "metadata": {},
   "outputs": [],
   "source": [
    "order_reviews_df['review_creation_date'].fillna(0,inplace=True)\n",
    "order_reviews_df['review_answer_timestamp'].fillna(0,inplace=True)"
   ]
  },
  {
   "cell_type": "code",
   "execution_count": 36,
   "id": "3b41e51a-a864-40e3-b583-0452f56b4d3f",
   "metadata": {},
   "outputs": [
    {
     "data": {
      "text/plain": [
       "review_id                  1859\n",
       "order_id                   1459\n",
       "review_score                  0\n",
       "review_comment_title          0\n",
       "review_comment_message        0\n",
       "review_creation_date          0\n",
       "review_answer_timestamp       0\n",
       "dtype: int64"
      ]
     },
     "execution_count": 36,
     "metadata": {},
     "output_type": "execute_result"
    }
   ],
   "source": [
    "order_reviews_df.isna().sum()"
   ]
  },
  {
   "cell_type": "markdown",
   "id": "3fc73d88-bfa0-4354-9060-b52883fc3f3c",
   "metadata": {},
   "source": [
    "* La Base orders"
   ]
  },
  {
   "cell_type": "code",
   "execution_count": 37,
   "id": "c5ff2fdb-d418-43d5-ac0f-f03b6a81a63b",
   "metadata": {},
   "outputs": [],
   "source": [
    "orders_df=orders.copy()"
   ]
  },
  {
   "cell_type": "code",
   "execution_count": 38,
   "id": "665d95e1-1a1b-4f41-9bb3-f5e178f59205",
   "metadata": {},
   "outputs": [],
   "source": [
    "orders_df['order_delivered_carrier_date'].fillna(0, inplace=True)\n",
    "orders_df['order_delivered_customer_date'].fillna(0, inplace=True)\n",
    "orders_df['order_approved_at'].fillna(0, inplace=True)"
   ]
  },
  {
   "cell_type": "code",
   "execution_count": 39,
   "id": "2ae8936c-50a9-4df2-aa78-060ed16d6334",
   "metadata": {},
   "outputs": [
    {
     "data": {
      "text/plain": [
       "order_id                         0\n",
       "customer_id                      0\n",
       "order_status                     0\n",
       "order_purchase_timestamp         0\n",
       "order_approved_at                0\n",
       "order_delivered_carrier_date     0\n",
       "order_delivered_customer_date    0\n",
       "order_estimated_delivery_date    0\n",
       "dtype: int64"
      ]
     },
     "execution_count": 39,
     "metadata": {},
     "output_type": "execute_result"
    }
   ],
   "source": [
    "orders_df.isna().sum()"
   ]
  },
  {
   "cell_type": "markdown",
   "id": "f7828cdb-9e9b-4c80-939d-19e851acaa17",
   "metadata": {},
   "source": [
    "Il n'y a plus de valeurs manquantes sur la base orders"
   ]
  },
  {
   "cell_type": "markdown",
   "id": "bf0e69fa-7356-408e-a5c4-4bf75cf683e5",
   "metadata": {},
   "source": [
    "* La base products"
   ]
  },
  {
   "cell_type": "code",
   "execution_count": 43,
   "id": "8f4c18e4-aec4-4445-a1aa-97bca08854f4",
   "metadata": {},
   "outputs": [],
   "source": [
    "products_df=products.copy()"
   ]
  },
  {
   "cell_type": "code",
   "execution_count": 44,
   "id": "c0290e6f-115c-470b-ad8e-f5be4c01d7f9",
   "metadata": {},
   "outputs": [],
   "source": [
    "products_df=products_df.drop(columns=['product_name_lenght',\n",
    "       'product_description_lenght', 'product_photos_qty', 'product_weight_g',\n",
    "       'product_length_cm', 'product_height_cm', 'product_width_cm'])\n",
    "products_df['product_category_name'].fillna('Inconnue', inplace=True)\n"
   ]
  },
  {
   "cell_type": "code",
   "execution_count": 45,
   "id": "b5599678-b2f8-41fd-ac4d-c7b1af77b2dd",
   "metadata": {},
   "outputs": [
    {
     "data": {
      "text/plain": [
       "product_id               0\n",
       "product_category_name    0\n",
       "dtype: int64"
      ]
     },
     "execution_count": 45,
     "metadata": {},
     "output_type": "execute_result"
    }
   ],
   "source": [
    "products_df.isna().sum()"
   ]
  },
  {
   "cell_type": "markdown",
   "id": "b1bc78f0-cd54-4a39-926b-3367f2d09d6f",
   "metadata": {},
   "source": [
    "La base products est nettoyée."
   ]
  },
  {
   "cell_type": "markdown",
   "id": "a0e026ce",
   "metadata": {},
   "source": [
    "# Analyse Exploratoire sur les base"
   ]
  },
  {
   "cell_type": "markdown",
   "id": "fac3c07c",
   "metadata": {},
   "source": [
    "#### Répartition  des clients par géographie"
   ]
  },
  {
   "cell_type": "code",
   "execution_count": 46,
   "id": "be37f185",
   "metadata": {
    "scrolled": true
   },
   "outputs": [
    {
     "data": {
      "text/plain": [
       "<matplotlib.collections.PathCollection at 0x273627918e0>"
      ]
     },
     "execution_count": 46,
     "metadata": {},
     "output_type": "execute_result"
    },
    {
     "data": {
      "image/png": "[encoded data removed]",
      "text/plain": [
       "<Figure size 640x480 with 1 Axes>"
      ]
     },
     "metadata": {},
     "output_type": "display_data"
    }
   ],
   "source": [
    "plt.scatter(x=geolocalisation_df[\"geolocation_lng\"],\n",
    "           y=geolocalisation_df[\"geolocation_lat\"],\n",
    "           alpha=0.2)"
   ]
  },
  {
   "cell_type": "markdown",
   "id": "4943c297",
   "metadata": {},
   "source": [
    "Les clients se localisent plus dans le Sud."
   ]
  },
  {
   "cell_type": "code",
   "execution_count": 47,
   "id": "86a2b49d",
   "metadata": {},
   "outputs": [
    {
     "data": {
      "text/plain": [
       "count     99441\n",
       "unique       27\n",
       "top          SP\n",
       "freq      41746\n",
       "Name: customer_state, dtype: object"
      ]
     },
     "execution_count": 47,
     "metadata": {},
     "output_type": "execute_result"
    }
   ],
   "source": [
    "customers.customer_state.describe()"
   ]
  },
  {
   "cell_type": "code",
   "execution_count": 48,
   "id": "6152d8b2",
   "metadata": {},
   "outputs": [
    {
     "data": {
      "text/plain": [
       "<AxesSubplot:>"
      ]
     },
     "execution_count": 48,
     "metadata": {},
     "output_type": "execute_result"
    },
    {
     "data": {
      "image/png": "[encoded data removed]",
      "text/plain": [
       "<Figure size 640x480 with 1 Axes>"
      ]
     },
     "metadata": {},
     "output_type": "display_data"
    }
   ],
   "source": [
    "customers.customer_state.hist()"
   ]
  },
  {
   "cell_type": "markdown",
   "id": "af7977ab",
   "metadata": {},
   "source": [
    "Il y'a 27 Etats et celui le plus représenté est celle de Sao Polo."
   ]
  },
  {
   "cell_type": "markdown",
   "id": "e330cc04",
   "metadata": {},
   "source": [
    "#### Nombre de produits par commande"
   ]
  },
  {
   "cell_type": "code",
   "execution_count": 49,
   "id": "8ae32e24",
   "metadata": {},
   "outputs": [
    {
     "data": {
      "text/plain": [
       "98666"
      ]
     },
     "execution_count": 49,
     "metadata": {},
     "output_type": "execute_result"
    }
   ],
   "source": [
    "order_items['order_id'].nunique()"
   ]
  },
  {
   "cell_type": "markdown",
   "id": "2779b332",
   "metadata": {},
   "source": [
    "On a 96478 valeurs uniques pour 'order_id'. Ceux qui ne sont pas unique représentent des commandes de plusieurs produits."
   ]
  },
  {
   "cell_type": "code",
   "execution_count": 50,
   "id": "f7dca7b4",
   "metadata": {},
   "outputs": [
    {
     "data": {
      "text/plain": [
       "count    112650.000000\n",
       "mean          1.197834\n",
       "std           0.705124\n",
       "min           1.000000\n",
       "25%           1.000000\n",
       "50%           1.000000\n",
       "75%           1.000000\n",
       "max          21.000000\n",
       "Name: order_item_id, dtype: float64"
      ]
     },
     "execution_count": 50,
     "metadata": {},
     "output_type": "execute_result"
    }
   ],
   "source": [
    "order_items['order_item_id'].describe()"
   ]
  },
  {
   "cell_type": "markdown",
   "id": "ead7a81d",
   "metadata": {},
   "source": [
    "En moyenne les commandes contiennent un seul produit, ce qui représente la valeur minimal de produits par commande. \n",
    "Au maximum les commandes contienent 21 produits."
   ]
  },
  {
   "cell_type": "code",
   "execution_count": 51,
   "id": "de9d1018",
   "metadata": {},
   "outputs": [
    {
     "data": {
      "text/plain": [
       "32951"
      ]
     },
     "execution_count": 51,
     "metadata": {},
     "output_type": "execute_result"
    }
   ],
   "source": [
    "order_items['product_id'].nunique()"
   ]
  },
  {
   "cell_type": "markdown",
   "id": "237e332c",
   "metadata": {},
   "source": [
    "Il y'a 32 216 produits différents."
   ]
  },
  {
   "cell_type": "markdown",
   "id": "bf243cbf",
   "metadata": {},
   "source": [
    "#### Etat des commandes"
   ]
  },
  {
   "cell_type": "code",
   "execution_count": 53,
   "id": "f6155a3e",
   "metadata": {},
   "outputs": [
    {
     "data": {
      "text/plain": [
       "<AxesSubplot:>"
      ]
     },
     "execution_count": 53,
     "metadata": {},
     "output_type": "execute_result"
    },
    {
     "data": {
      "image/png": "[encoded data removed]",
      "text/plain": [
       "<Figure size 640x480 with 1 Axes>"
      ]
     },
     "metadata": {},
     "output_type": "display_data"
    }
   ],
   "source": [
    "orders.order_status.hist()"
   ]
  },
  {
   "cell_type": "markdown",
   "id": "50d498d1",
   "metadata": {},
   "source": [
    "La plupart des commandes sont délévrées."
   ]
  },
  {
   "cell_type": "code",
   "execution_count": 253,
   "id": "e01517b0",
   "metadata": {},
   "outputs": [
    {
     "data": {
      "image/png": "[encoded data removed]",
      "text/plain": [
       "<Figure size 640x480 with 1 Axes>"
      ]
     },
     "metadata": {},
     "output_type": "display_data"
    }
   ],
   "source": [
    "order_items.groupby(order_items['order_purchase_timestamp'].dt.month)\\\n",
    ".agg({\"order_id\":\"nunique\"})\\\n",
    ".plot(kind=\"bar\", title=\"Répartition des commandes par mois\",\n",
    "     ylabel=\"nombre-commandes\",\n",
    "     xlabel=\"mois\", legend=False)\n",
    "plt.xticks(np.arange(0,12), ['Janv','Fev', 'Mars','Avr', 'Mai','jun','juil','Aout','sept','oct','nov','dec'],\n",
    "                             rotation='horizontal')\n",
    "plt.show()"
   ]
  },
  {
   "cell_type": "markdown",
   "id": "abf4124d",
   "metadata": {},
   "source": [
    "On a plus de commandes au mois de juillet et moins de commande au mois de septembre."
   ]
  },
  {
   "cell_type": "code",
   "execution_count": 254,
   "id": "8ffba2b4",
   "metadata": {},
   "outputs": [
    {
     "data": {
      "image/png": "[encoded data removed]",
      "text/plain": [
       "<Figure size 640x480 with 1 Axes>"
      ]
     },
     "metadata": {},
     "output_type": "display_data"
    }
   ],
   "source": [
    "order_items.groupby(order_items['order_purchase_timestamp'].dt.dayofweek)\\\n",
    ".agg({\"order_id\":\"nunique\"})\\\n",
    ".plot(kind=\"bar\", title=\"Répartition des commandes par les jours de la semaine\",\n",
    "     ylabel=\"nombre-commandes\",\n",
    "     xlabel=\"jours\", legend=False)\n",
    "plt.xticks(np.arange(0,7), ['Lun','Mar', 'Mer','Jeu', 'Ven','Sam','Dim'],\n",
    "                             rotation='horizontal')\n",
    "plt.show()"
   ]
  },
  {
   "cell_type": "markdown",
   "id": "fe439ef4",
   "metadata": {},
   "source": [
    "Il y'a plus de commandes pour les jours de lundi, mardi et mercredi que les autres jours et moins de commandes le samedi."
   ]
  },
  {
   "cell_type": "markdown",
   "id": "e5e67329",
   "metadata": {},
   "source": [
    "#### Type de paiement"
   ]
  },
  {
   "cell_type": "code",
   "execution_count": 262,
   "id": "45beca85",
   "metadata": {},
   "outputs": [
    {
     "data": {
      "text/plain": [
       "<AxesSubplot:>"
      ]
     },
     "execution_count": 262,
     "metadata": {},
     "output_type": "execute_result"
    },
    {
     "data": {
      "image/png": "[encoded data removed]",
      "text/plain": [
       "<Figure size 640x480 with 1 Axes>"
      ]
     },
     "metadata": {},
     "output_type": "display_data"
    }
   ],
   "source": [
    "order_payments.payment_type.hist()"
   ]
  },
  {
   "cell_type": "markdown",
   "id": "64fe5833",
   "metadata": {},
   "source": [
    "Le paiement par carte bancaire est le plus utilisé suivi de boleto."
   ]
  },
  {
   "cell_type": "markdown",
   "id": "b1de08a8",
   "metadata": {},
   "source": [
    "#### Niveau satisfaction des clients"
   ]
  },
  {
   "cell_type": "code",
   "execution_count": 260,
   "id": "1be618c0",
   "metadata": {},
   "outputs": [
    {
     "data": {
      "image/png": "[encoded data removed]",
      "text/plain": [
       "<Figure size 1200x800 with 1 Axes>"
      ]
     },
     "metadata": {},
     "output_type": "display_data"
    }
   ],
   "source": [
    "fig=plt.figure(figsize=(12,8))\n",
    "sns.histplot(data=order_items, x=\"review_score\",\n",
    "            discrete=True,\n",
    "            alpha=0.7)\n",
    "plt.title(f\"Répartition des notes attribuées aux commandes\\n\")\n",
    "plt.show()"
   ]
  },
  {
   "cell_type": "markdown",
   "id": "5e97cafe",
   "metadata": {},
   "source": [
    "La plupart des clients sont satisfaits des commandes qu'ils ont fait"
   ]
  },
  {
   "cell_type": "markdown",
   "id": "8b09d5ef-1409-4c4f-ac20-f09ecde104a3",
   "metadata": {
    "tags": []
   },
   "source": [
    "# Jointure de Bases"
   ]
  },
  {
   "cell_type": "markdown",
   "id": "5d8575c4",
   "metadata": {},
   "source": [
    "##### produits et catégoris"
   ]
  },
  {
   "cell_type": "code",
   "execution_count": 54,
   "id": "62ccdd39-0639-4b98-ab53-7dae6c1fc5ab",
   "metadata": {},
   "outputs": [],
   "source": [
    "translation_df=translation.copy()\n",
    "products = pd.merge(products_df, translation_df,\n",
    "                    how=\"left\",\n",
    "                    on=\"product_category_name\").drop(\n",
    "        ['product_category_name'], axis=1)\n",
    "    \n"
   ]
  },
  {
   "cell_type": "code",
   "execution_count": 55,
   "id": "9c338884",
   "metadata": {
    "scrolled": true
   },
   "outputs": [
    {
     "data": {
      "text/html": [
       "<div>\n",
       "<style scoped>\n",
       "    .dataframe tbody tr th:only-of-type {\n",
       "        vertical-align: middle;\n",
       "    }\n",
       "\n",
       "    .dataframe tbody tr th {\n",
       "        vertical-align: top;\n",
       "    }\n",
       "\n",
       "    .dataframe thead th {\n",
       "        text-align: right;\n",
       "    }\n",
       "</style>\n",
       "<table border=\"1\" class=\"dataframe\">\n",
       "  <thead>\n",
       "    <tr style=\"text-align: right;\">\n",
       "      <th></th>\n",
       "      <th>product_id</th>\n",
       "      <th>product_category_name_english</th>\n",
       "    </tr>\n",
       "  </thead>\n",
       "  <tbody>\n",
       "    <tr>\n",
       "      <th>0</th>\n",
       "      <td>1e9e8ef04dbcff4541ed26657ea517e5</td>\n",
       "      <td>perfumery</td>\n",
       "    </tr>\n",
       "    <tr>\n",
       "      <th>1</th>\n",
       "      <td>3aa071139cb16b67ca9e5dea641aaa2f</td>\n",
       "      <td>art</td>\n",
       "    </tr>\n",
       "    <tr>\n",
       "      <th>2</th>\n",
       "      <td>96bd76ec8810374ed1b65e291975717f</td>\n",
       "      <td>sports_leisure</td>\n",
       "    </tr>\n",
       "    <tr>\n",
       "      <th>3</th>\n",
       "      <td>cef67bcfe19066a932b7673e239eb23d</td>\n",
       "      <td>baby</td>\n",
       "    </tr>\n",
       "    <tr>\n",
       "      <th>4</th>\n",
       "      <td>9dc1a7de274444849c219cff195d0b71</td>\n",
       "      <td>housewares</td>\n",
       "    </tr>\n",
       "  </tbody>\n",
       "</table>\n",
       "</div>"
      ],
      "text/plain": [
       "                         product_id product_category_name_english\n",
       "0  1e9e8ef04dbcff4541ed26657ea517e5                     perfumery\n",
       "1  3aa071139cb16b67ca9e5dea641aaa2f                           art\n",
       "2  96bd76ec8810374ed1b65e291975717f                sports_leisure\n",
       "3  cef67bcfe19066a932b7673e239eb23d                          baby\n",
       "4  9dc1a7de274444849c219cff195d0b71                    housewares"
      ]
     },
     "execution_count": 55,
     "metadata": {},
     "output_type": "execute_result"
    }
   ],
   "source": [
    "products.head()"
   ]
  },
  {
   "cell_type": "code",
   "execution_count": 56,
   "id": "d653373f",
   "metadata": {},
   "outputs": [
    {
     "data": {
      "text/plain": [
       "product_id                         0\n",
       "product_category_name_english    623\n",
       "dtype: int64"
      ]
     },
     "execution_count": 56,
     "metadata": {},
     "output_type": "execute_result"
    }
   ],
   "source": [
    "products.isna().sum()"
   ]
  },
  {
   "cell_type": "markdown",
   "id": "4631032f",
   "metadata": {},
   "source": [
    "##### imputation des valeurs manquantes dans la base products"
   ]
  },
  {
   "cell_type": "code",
   "execution_count": 57,
   "id": "afe543e5",
   "metadata": {},
   "outputs": [],
   "source": [
    "products['product_category_name_english'].fillna('Non traduit', inplace=True)"
   ]
  },
  {
   "cell_type": "code",
   "execution_count": 58,
   "id": "0f367bea",
   "metadata": {},
   "outputs": [
    {
     "data": {
      "text/plain": [
       "product_id                       0\n",
       "product_category_name_english    0\n",
       "dtype: int64"
      ]
     },
     "execution_count": 58,
     "metadata": {},
     "output_type": "execute_result"
    }
   ],
   "source": [
    "products.isna().sum()"
   ]
  },
  {
   "cell_type": "code",
   "execution_count": null,
   "id": "2491ea5b",
   "metadata": {
    "scrolled": true
   },
   "outputs": [],
   "source": []
  },
  {
   "cell_type": "markdown",
   "id": "20d5c67e",
   "metadata": {},
   "source": [
    "#### Commandes et commandes_libellé\n"
   ]
  },
  {
   "cell_type": "code",
   "execution_count": 59,
   "id": "56382eab-f009-46dc-bc52-562b3be715bc",
   "metadata": {},
   "outputs": [],
   "source": [
    "order_items_df= order_items.copy()\n",
    "order_items = pd.merge(order_items_df,orders_df,\n",
    "                       how=\"left\",\n",
    "                       on=\"order_id\")\n",
    "    "
   ]
  },
  {
   "cell_type": "code",
   "execution_count": 60,
   "id": "eafd25bd-693d-4c59-89e8-40d3cf05992b",
   "metadata": {
    "tags": []
   },
   "outputs": [
    {
     "data": {
      "text/html": [
       "<div>\n",
       "<style scoped>\n",
       "    .dataframe tbody tr th:only-of-type {\n",
       "        vertical-align: middle;\n",
       "    }\n",
       "\n",
       "    .dataframe tbody tr th {\n",
       "        vertical-align: top;\n",
       "    }\n",
       "\n",
       "    .dataframe thead th {\n",
       "        text-align: right;\n",
       "    }\n",
       "</style>\n",
       "<table border=\"1\" class=\"dataframe\">\n",
       "  <thead>\n",
       "    <tr style=\"text-align: right;\">\n",
       "      <th></th>\n",
       "      <th>order_id</th>\n",
       "      <th>order_item_id</th>\n",
       "      <th>product_id</th>\n",
       "      <th>seller_id</th>\n",
       "      <th>shipping_limit_date</th>\n",
       "      <th>price</th>\n",
       "      <th>freight_value</th>\n",
       "      <th>customer_id</th>\n",
       "      <th>order_status</th>\n",
       "      <th>order_purchase_timestamp</th>\n",
       "      <th>order_approved_at</th>\n",
       "      <th>order_delivered_carrier_date</th>\n",
       "      <th>order_delivered_customer_date</th>\n",
       "      <th>order_estimated_delivery_date</th>\n",
       "    </tr>\n",
       "  </thead>\n",
       "  <tbody>\n",
       "    <tr>\n",
       "      <th>0</th>\n",
       "      <td>00010242fe8c5a6d1ba2dd792cb16214</td>\n",
       "      <td>1</td>\n",
       "      <td>4244733e06e7ecb4970a6e2683c13e61</td>\n",
       "      <td>48436dade18ac8b2bce089ec2a041202</td>\n",
       "      <td>19/09/2017 09:45</td>\n",
       "      <td>58.90</td>\n",
       "      <td>13.29</td>\n",
       "      <td>3ce436f183e68e07877b285a838db11a</td>\n",
       "      <td>delivered</td>\n",
       "      <td>13/09/2017 08:59</td>\n",
       "      <td>13/09/2017 09:45</td>\n",
       "      <td>19/09/2017 18:34</td>\n",
       "      <td>20/09/2017 23:43</td>\n",
       "      <td>29/09/2017 00:00</td>\n",
       "    </tr>\n",
       "    <tr>\n",
       "      <th>1</th>\n",
       "      <td>00018f77f2f0320c557190d7a144bdd3</td>\n",
       "      <td>1</td>\n",
       "      <td>e5f2d52b802189ee658865ca93d83a8f</td>\n",
       "      <td>dd7ddc04e1b6c2c614352b383efe2d36</td>\n",
       "      <td>03/05/2017 11:05</td>\n",
       "      <td>239.90</td>\n",
       "      <td>19.93</td>\n",
       "      <td>f6dd3ec061db4e3987629fe6b26e5cce</td>\n",
       "      <td>delivered</td>\n",
       "      <td>26/04/2017 10:53</td>\n",
       "      <td>26/04/2017 11:05</td>\n",
       "      <td>04/05/2017 14:35</td>\n",
       "      <td>12/05/2017 16:04</td>\n",
       "      <td>15/05/2017 00:00</td>\n",
       "    </tr>\n",
       "    <tr>\n",
       "      <th>2</th>\n",
       "      <td>000229ec398224ef6ca0657da4fc703e</td>\n",
       "      <td>1</td>\n",
       "      <td>c777355d18b72b67abbeef9df44fd0fd</td>\n",
       "      <td>5b51032eddd242adc84c38acab88f23d</td>\n",
       "      <td>18/01/2018 14:48</td>\n",
       "      <td>199.00</td>\n",
       "      <td>17.87</td>\n",
       "      <td>6489ae5e4333f3693df5ad4372dab6d3</td>\n",
       "      <td>delivered</td>\n",
       "      <td>14/01/2018 14:33</td>\n",
       "      <td>14/01/2018 14:48</td>\n",
       "      <td>16/01/2018 12:36</td>\n",
       "      <td>22/01/2018 13:19</td>\n",
       "      <td>05/02/2018 00:00</td>\n",
       "    </tr>\n",
       "    <tr>\n",
       "      <th>3</th>\n",
       "      <td>00024acbcdf0a6daa1e931b038114c75</td>\n",
       "      <td>1</td>\n",
       "      <td>7634da152a4610f1595efa32f14722fc</td>\n",
       "      <td>9d7a1d34a5052409006425275ba1c2b4</td>\n",
       "      <td>15/08/2018 10:10</td>\n",
       "      <td>12.99</td>\n",
       "      <td>12.79</td>\n",
       "      <td>d4eb9395c8c0431ee92fce09860c5a06</td>\n",
       "      <td>delivered</td>\n",
       "      <td>08/08/2018 10:00</td>\n",
       "      <td>08/08/2018 10:10</td>\n",
       "      <td>10/08/2018 13:28</td>\n",
       "      <td>14/08/2018 13:32</td>\n",
       "      <td>20/08/2018 00:00</td>\n",
       "    </tr>\n",
       "    <tr>\n",
       "      <th>4</th>\n",
       "      <td>00042b26cf59d7ce69dfabb4e55b4fd9</td>\n",
       "      <td>1</td>\n",
       "      <td>ac6c3623068f30de03045865e4e10089</td>\n",
       "      <td>df560393f3a51e74553ab94004ba5c87</td>\n",
       "      <td>13/02/2017 13:57</td>\n",
       "      <td>199.90</td>\n",
       "      <td>18.14</td>\n",
       "      <td>58dbd0b2d70206bf40e62cd34e84d795</td>\n",
       "      <td>delivered</td>\n",
       "      <td>04/02/2017 13:57</td>\n",
       "      <td>04/02/2017 14:10</td>\n",
       "      <td>16/02/2017 09:46</td>\n",
       "      <td>01/03/2017 16:42</td>\n",
       "      <td>17/03/2017 00:00</td>\n",
       "    </tr>\n",
       "  </tbody>\n",
       "</table>\n",
       "</div>"
      ],
      "text/plain": [
       "                           order_id  order_item_id  \\\n",
       "0  00010242fe8c5a6d1ba2dd792cb16214              1   \n",
       "1  00018f77f2f0320c557190d7a144bdd3              1   \n",
       "2  000229ec398224ef6ca0657da4fc703e              1   \n",
       "3  00024acbcdf0a6daa1e931b038114c75              1   \n",
       "4  00042b26cf59d7ce69dfabb4e55b4fd9              1   \n",
       "\n",
       "                         product_id                         seller_id  \\\n",
       "0  4244733e06e7ecb4970a6e2683c13e61  48436dade18ac8b2bce089ec2a041202   \n",
       "1  e5f2d52b802189ee658865ca93d83a8f  dd7ddc04e1b6c2c614352b383efe2d36   \n",
       "2  c777355d18b72b67abbeef9df44fd0fd  5b51032eddd242adc84c38acab88f23d   \n",
       "3  7634da152a4610f1595efa32f14722fc  9d7a1d34a5052409006425275ba1c2b4   \n",
       "4  ac6c3623068f30de03045865e4e10089  df560393f3a51e74553ab94004ba5c87   \n",
       "\n",
       "  shipping_limit_date   price  freight_value  \\\n",
       "0    19/09/2017 09:45   58.90          13.29   \n",
       "1    03/05/2017 11:05  239.90          19.93   \n",
       "2    18/01/2018 14:48  199.00          17.87   \n",
       "3    15/08/2018 10:10   12.99          12.79   \n",
       "4    13/02/2017 13:57  199.90          18.14   \n",
       "\n",
       "                        customer_id order_status order_purchase_timestamp  \\\n",
       "0  3ce436f183e68e07877b285a838db11a    delivered         13/09/2017 08:59   \n",
       "1  f6dd3ec061db4e3987629fe6b26e5cce    delivered         26/04/2017 10:53   \n",
       "2  6489ae5e4333f3693df5ad4372dab6d3    delivered         14/01/2018 14:33   \n",
       "3  d4eb9395c8c0431ee92fce09860c5a06    delivered         08/08/2018 10:00   \n",
       "4  58dbd0b2d70206bf40e62cd34e84d795    delivered         04/02/2017 13:57   \n",
       "\n",
       "  order_approved_at order_delivered_carrier_date  \\\n",
       "0  13/09/2017 09:45             19/09/2017 18:34   \n",
       "1  26/04/2017 11:05             04/05/2017 14:35   \n",
       "2  14/01/2018 14:48             16/01/2018 12:36   \n",
       "3  08/08/2018 10:10             10/08/2018 13:28   \n",
       "4  04/02/2017 14:10             16/02/2017 09:46   \n",
       "\n",
       "  order_delivered_customer_date order_estimated_delivery_date  \n",
       "0              20/09/2017 23:43              29/09/2017 00:00  \n",
       "1              12/05/2017 16:04              15/05/2017 00:00  \n",
       "2              22/01/2018 13:19              05/02/2018 00:00  \n",
       "3              14/08/2018 13:32              20/08/2018 00:00  \n",
       "4              01/03/2017 16:42              17/03/2017 00:00  "
      ]
     },
     "execution_count": 60,
     "metadata": {},
     "output_type": "execute_result"
    }
   ],
   "source": [
    "order_items.head()"
   ]
  },
  {
   "cell_type": "markdown",
   "id": "fdd082e4",
   "metadata": {},
   "source": [
    "#### suppression des commandes qui ne sont pas encore délivrées "
   ]
  },
  {
   "cell_type": "code",
   "execution_count": 61,
   "id": "55b2d3da",
   "metadata": {},
   "outputs": [
    {
     "data": {
      "text/html": [
       "<div>\n",
       "<style scoped>\n",
       "    .dataframe tbody tr th:only-of-type {\n",
       "        vertical-align: middle;\n",
       "    }\n",
       "\n",
       "    .dataframe tbody tr th {\n",
       "        vertical-align: top;\n",
       "    }\n",
       "\n",
       "    .dataframe thead th {\n",
       "        text-align: right;\n",
       "    }\n",
       "</style>\n",
       "<table border=\"1\" class=\"dataframe\">\n",
       "  <thead>\n",
       "    <tr style=\"text-align: right;\">\n",
       "      <th></th>\n",
       "      <th>order_id</th>\n",
       "      <th>order_item_id</th>\n",
       "      <th>product_id</th>\n",
       "      <th>seller_id</th>\n",
       "      <th>shipping_limit_date</th>\n",
       "      <th>price</th>\n",
       "      <th>freight_value</th>\n",
       "      <th>customer_id</th>\n",
       "      <th>order_status</th>\n",
       "      <th>order_purchase_timestamp</th>\n",
       "      <th>order_approved_at</th>\n",
       "      <th>order_delivered_carrier_date</th>\n",
       "      <th>order_delivered_customer_date</th>\n",
       "      <th>order_estimated_delivery_date</th>\n",
       "    </tr>\n",
       "  </thead>\n",
       "  <tbody>\n",
       "    <tr>\n",
       "      <th>0</th>\n",
       "      <td>00010242fe8c5a6d1ba2dd792cb16214</td>\n",
       "      <td>1</td>\n",
       "      <td>4244733e06e7ecb4970a6e2683c13e61</td>\n",
       "      <td>48436dade18ac8b2bce089ec2a041202</td>\n",
       "      <td>19/09/2017 09:45</td>\n",
       "      <td>58.90</td>\n",
       "      <td>13.29</td>\n",
       "      <td>3ce436f183e68e07877b285a838db11a</td>\n",
       "      <td>delivered</td>\n",
       "      <td>13/09/2017 08:59</td>\n",
       "      <td>13/09/2017 09:45</td>\n",
       "      <td>19/09/2017 18:34</td>\n",
       "      <td>20/09/2017 23:43</td>\n",
       "      <td>29/09/2017 00:00</td>\n",
       "    </tr>\n",
       "    <tr>\n",
       "      <th>1</th>\n",
       "      <td>00018f77f2f0320c557190d7a144bdd3</td>\n",
       "      <td>1</td>\n",
       "      <td>e5f2d52b802189ee658865ca93d83a8f</td>\n",
       "      <td>dd7ddc04e1b6c2c614352b383efe2d36</td>\n",
       "      <td>03/05/2017 11:05</td>\n",
       "      <td>239.90</td>\n",
       "      <td>19.93</td>\n",
       "      <td>f6dd3ec061db4e3987629fe6b26e5cce</td>\n",
       "      <td>delivered</td>\n",
       "      <td>26/04/2017 10:53</td>\n",
       "      <td>26/04/2017 11:05</td>\n",
       "      <td>04/05/2017 14:35</td>\n",
       "      <td>12/05/2017 16:04</td>\n",
       "      <td>15/05/2017 00:00</td>\n",
       "    </tr>\n",
       "    <tr>\n",
       "      <th>2</th>\n",
       "      <td>000229ec398224ef6ca0657da4fc703e</td>\n",
       "      <td>1</td>\n",
       "      <td>c777355d18b72b67abbeef9df44fd0fd</td>\n",
       "      <td>5b51032eddd242adc84c38acab88f23d</td>\n",
       "      <td>18/01/2018 14:48</td>\n",
       "      <td>199.00</td>\n",
       "      <td>17.87</td>\n",
       "      <td>6489ae5e4333f3693df5ad4372dab6d3</td>\n",
       "      <td>delivered</td>\n",
       "      <td>14/01/2018 14:33</td>\n",
       "      <td>14/01/2018 14:48</td>\n",
       "      <td>16/01/2018 12:36</td>\n",
       "      <td>22/01/2018 13:19</td>\n",
       "      <td>05/02/2018 00:00</td>\n",
       "    </tr>\n",
       "    <tr>\n",
       "      <th>3</th>\n",
       "      <td>00024acbcdf0a6daa1e931b038114c75</td>\n",
       "      <td>1</td>\n",
       "      <td>7634da152a4610f1595efa32f14722fc</td>\n",
       "      <td>9d7a1d34a5052409006425275ba1c2b4</td>\n",
       "      <td>15/08/2018 10:10</td>\n",
       "      <td>12.99</td>\n",
       "      <td>12.79</td>\n",
       "      <td>d4eb9395c8c0431ee92fce09860c5a06</td>\n",
       "      <td>delivered</td>\n",
       "      <td>08/08/2018 10:00</td>\n",
       "      <td>08/08/2018 10:10</td>\n",
       "      <td>10/08/2018 13:28</td>\n",
       "      <td>14/08/2018 13:32</td>\n",
       "      <td>20/08/2018 00:00</td>\n",
       "    </tr>\n",
       "    <tr>\n",
       "      <th>4</th>\n",
       "      <td>00042b26cf59d7ce69dfabb4e55b4fd9</td>\n",
       "      <td>1</td>\n",
       "      <td>ac6c3623068f30de03045865e4e10089</td>\n",
       "      <td>df560393f3a51e74553ab94004ba5c87</td>\n",
       "      <td>13/02/2017 13:57</td>\n",
       "      <td>199.90</td>\n",
       "      <td>18.14</td>\n",
       "      <td>58dbd0b2d70206bf40e62cd34e84d795</td>\n",
       "      <td>delivered</td>\n",
       "      <td>04/02/2017 13:57</td>\n",
       "      <td>04/02/2017 14:10</td>\n",
       "      <td>16/02/2017 09:46</td>\n",
       "      <td>01/03/2017 16:42</td>\n",
       "      <td>17/03/2017 00:00</td>\n",
       "    </tr>\n",
       "  </tbody>\n",
       "</table>\n",
       "</div>"
      ],
      "text/plain": [
       "                           order_id  order_item_id  \\\n",
       "0  00010242fe8c5a6d1ba2dd792cb16214              1   \n",
       "1  00018f77f2f0320c557190d7a144bdd3              1   \n",
       "2  000229ec398224ef6ca0657da4fc703e              1   \n",
       "3  00024acbcdf0a6daa1e931b038114c75              1   \n",
       "4  00042b26cf59d7ce69dfabb4e55b4fd9              1   \n",
       "\n",
       "                         product_id                         seller_id  \\\n",
       "0  4244733e06e7ecb4970a6e2683c13e61  48436dade18ac8b2bce089ec2a041202   \n",
       "1  e5f2d52b802189ee658865ca93d83a8f  dd7ddc04e1b6c2c614352b383efe2d36   \n",
       "2  c777355d18b72b67abbeef9df44fd0fd  5b51032eddd242adc84c38acab88f23d   \n",
       "3  7634da152a4610f1595efa32f14722fc  9d7a1d34a5052409006425275ba1c2b4   \n",
       "4  ac6c3623068f30de03045865e4e10089  df560393f3a51e74553ab94004ba5c87   \n",
       "\n",
       "  shipping_limit_date   price  freight_value  \\\n",
       "0    19/09/2017 09:45   58.90          13.29   \n",
       "1    03/05/2017 11:05  239.90          19.93   \n",
       "2    18/01/2018 14:48  199.00          17.87   \n",
       "3    15/08/2018 10:10   12.99          12.79   \n",
       "4    13/02/2017 13:57  199.90          18.14   \n",
       "\n",
       "                        customer_id order_status order_purchase_timestamp  \\\n",
       "0  3ce436f183e68e07877b285a838db11a    delivered         13/09/2017 08:59   \n",
       "1  f6dd3ec061db4e3987629fe6b26e5cce    delivered         26/04/2017 10:53   \n",
       "2  6489ae5e4333f3693df5ad4372dab6d3    delivered         14/01/2018 14:33   \n",
       "3  d4eb9395c8c0431ee92fce09860c5a06    delivered         08/08/2018 10:00   \n",
       "4  58dbd0b2d70206bf40e62cd34e84d795    delivered         04/02/2017 13:57   \n",
       "\n",
       "  order_approved_at order_delivered_carrier_date  \\\n",
       "0  13/09/2017 09:45             19/09/2017 18:34   \n",
       "1  26/04/2017 11:05             04/05/2017 14:35   \n",
       "2  14/01/2018 14:48             16/01/2018 12:36   \n",
       "3  08/08/2018 10:10             10/08/2018 13:28   \n",
       "4  04/02/2017 14:10             16/02/2017 09:46   \n",
       "\n",
       "  order_delivered_customer_date order_estimated_delivery_date  \n",
       "0              20/09/2017 23:43              29/09/2017 00:00  \n",
       "1              12/05/2017 16:04              15/05/2017 00:00  \n",
       "2              22/01/2018 13:19              05/02/2018 00:00  \n",
       "3              14/08/2018 13:32              20/08/2018 00:00  \n",
       "4              01/03/2017 16:42              17/03/2017 00:00  "
      ]
     },
     "execution_count": 61,
     "metadata": {},
     "output_type": "execute_result"
    }
   ],
   "source": [
    "order_items = order_items[order_items[\"order_status\"] == \"delivered\"]\n",
    "order_items.head()"
   ]
  },
  {
   "cell_type": "markdown",
   "id": "cef97ffd",
   "metadata": {},
   "source": [
    "#### regroupement commandes et les paiements"
   ]
  },
  {
   "cell_type": "code",
   "execution_count": 62,
   "id": "a86426f9",
   "metadata": {},
   "outputs": [],
   "source": [
    "order_payments_df=order_payments.copy()\n",
    "order_items = pd.merge(order_items, order_payments_df,\n",
    "                       how=\"left\",\n",
    "                       on=\"order_id\").drop(\n",
    "        ['seller_id'], axis=1)\n"
   ]
  },
  {
   "cell_type": "markdown",
   "id": "0e9eef84",
   "metadata": {},
   "source": [
    "#### regroupement avis des clients et commandes"
   ]
  },
  {
   "cell_type": "code",
   "execution_count": 63,
   "id": "713a0b44",
   "metadata": {},
   "outputs": [
    {
     "data": {
      "text/html": [
       "<div>\n",
       "<style scoped>\n",
       "    .dataframe tbody tr th:only-of-type {\n",
       "        vertical-align: middle;\n",
       "    }\n",
       "\n",
       "    .dataframe tbody tr th {\n",
       "        vertical-align: top;\n",
       "    }\n",
       "\n",
       "    .dataframe thead th {\n",
       "        text-align: right;\n",
       "    }\n",
       "</style>\n",
       "<table border=\"1\" class=\"dataframe\">\n",
       "  <thead>\n",
       "    <tr style=\"text-align: right;\">\n",
       "      <th></th>\n",
       "      <th>order_id</th>\n",
       "      <th>order_item_id</th>\n",
       "      <th>product_id</th>\n",
       "      <th>shipping_limit_date</th>\n",
       "      <th>price</th>\n",
       "      <th>freight_value</th>\n",
       "      <th>customer_id</th>\n",
       "      <th>order_status</th>\n",
       "      <th>order_purchase_timestamp</th>\n",
       "      <th>order_approved_at</th>\n",
       "      <th>...</th>\n",
       "      <th>payment_sequential</th>\n",
       "      <th>payment_type</th>\n",
       "      <th>payment_installments</th>\n",
       "      <th>payment_value</th>\n",
       "      <th>review_id</th>\n",
       "      <th>review_score</th>\n",
       "      <th>review_comment_title</th>\n",
       "      <th>review_comment_message</th>\n",
       "      <th>review_creation_date</th>\n",
       "      <th>review_answer_timestamp</th>\n",
       "    </tr>\n",
       "  </thead>\n",
       "  <tbody>\n",
       "    <tr>\n",
       "      <th>0</th>\n",
       "      <td>00010242fe8c5a6d1ba2dd792cb16214</td>\n",
       "      <td>1</td>\n",
       "      <td>4244733e06e7ecb4970a6e2683c13e61</td>\n",
       "      <td>19/09/2017 09:45</td>\n",
       "      <td>58.90</td>\n",
       "      <td>13.29</td>\n",
       "      <td>3ce436f183e68e07877b285a838db11a</td>\n",
       "      <td>delivered</td>\n",
       "      <td>13/09/2017 08:59</td>\n",
       "      <td>13/09/2017 09:45</td>\n",
       "      <td>...</td>\n",
       "      <td>1.0</td>\n",
       "      <td>credit_card</td>\n",
       "      <td>2.0</td>\n",
       "      <td>72.19</td>\n",
       "      <td>97ca439bc427b48bc1cd7177abe71365</td>\n",
       "      <td>5</td>\n",
       "      <td>NO COMMENT TITLE</td>\n",
       "      <td>Perfeito, produto entregue antes do combinado.</td>\n",
       "      <td>21/09/2017 00:00</td>\n",
       "      <td>22/09/2017 10:57</td>\n",
       "    </tr>\n",
       "    <tr>\n",
       "      <th>1</th>\n",
       "      <td>00018f77f2f0320c557190d7a144bdd3</td>\n",
       "      <td>1</td>\n",
       "      <td>e5f2d52b802189ee658865ca93d83a8f</td>\n",
       "      <td>03/05/2017 11:05</td>\n",
       "      <td>239.90</td>\n",
       "      <td>19.93</td>\n",
       "      <td>f6dd3ec061db4e3987629fe6b26e5cce</td>\n",
       "      <td>delivered</td>\n",
       "      <td>26/04/2017 10:53</td>\n",
       "      <td>26/04/2017 11:05</td>\n",
       "      <td>...</td>\n",
       "      <td>1.0</td>\n",
       "      <td>credit_card</td>\n",
       "      <td>3.0</td>\n",
       "      <td>259.83</td>\n",
       "      <td>7b07bacd811c4117b742569b04ce3580</td>\n",
       "      <td>4</td>\n",
       "      <td>NO COMMENT TITLE</td>\n",
       "      <td>NO COMMENT MESSAGE</td>\n",
       "      <td>13/05/2017 00:00</td>\n",
       "      <td>15/05/2017 11:34</td>\n",
       "    </tr>\n",
       "    <tr>\n",
       "      <th>2</th>\n",
       "      <td>000229ec398224ef6ca0657da4fc703e</td>\n",
       "      <td>1</td>\n",
       "      <td>c777355d18b72b67abbeef9df44fd0fd</td>\n",
       "      <td>18/01/2018 14:48</td>\n",
       "      <td>199.00</td>\n",
       "      <td>17.87</td>\n",
       "      <td>6489ae5e4333f3693df5ad4372dab6d3</td>\n",
       "      <td>delivered</td>\n",
       "      <td>14/01/2018 14:33</td>\n",
       "      <td>14/01/2018 14:48</td>\n",
       "      <td>...</td>\n",
       "      <td>1.0</td>\n",
       "      <td>credit_card</td>\n",
       "      <td>5.0</td>\n",
       "      <td>216.87</td>\n",
       "      <td>0c5b33dea94867d1ac402749e5438e8b</td>\n",
       "      <td>5</td>\n",
       "      <td>NO COMMENT TITLE</td>\n",
       "      <td>Chegou antes do prazo previsto e o produto sur...</td>\n",
       "      <td>23/01/2018 00:00</td>\n",
       "      <td>23/01/2018 16:06</td>\n",
       "    </tr>\n",
       "    <tr>\n",
       "      <th>3</th>\n",
       "      <td>00024acbcdf0a6daa1e931b038114c75</td>\n",
       "      <td>1</td>\n",
       "      <td>7634da152a4610f1595efa32f14722fc</td>\n",
       "      <td>15/08/2018 10:10</td>\n",
       "      <td>12.99</td>\n",
       "      <td>12.79</td>\n",
       "      <td>d4eb9395c8c0431ee92fce09860c5a06</td>\n",
       "      <td>delivered</td>\n",
       "      <td>08/08/2018 10:00</td>\n",
       "      <td>08/08/2018 10:10</td>\n",
       "      <td>...</td>\n",
       "      <td>1.0</td>\n",
       "      <td>credit_card</td>\n",
       "      <td>2.0</td>\n",
       "      <td>25.78</td>\n",
       "      <td>f4028d019cb58564807486a6aaf33817</td>\n",
       "      <td>4</td>\n",
       "      <td>NO COMMENT TITLE</td>\n",
       "      <td>NO COMMENT MESSAGE</td>\n",
       "      <td>15/08/2018 00:00</td>\n",
       "      <td>15/08/2018 16:39</td>\n",
       "    </tr>\n",
       "    <tr>\n",
       "      <th>4</th>\n",
       "      <td>00042b26cf59d7ce69dfabb4e55b4fd9</td>\n",
       "      <td>1</td>\n",
       "      <td>ac6c3623068f30de03045865e4e10089</td>\n",
       "      <td>13/02/2017 13:57</td>\n",
       "      <td>199.90</td>\n",
       "      <td>18.14</td>\n",
       "      <td>58dbd0b2d70206bf40e62cd34e84d795</td>\n",
       "      <td>delivered</td>\n",
       "      <td>04/02/2017 13:57</td>\n",
       "      <td>04/02/2017 14:10</td>\n",
       "      <td>...</td>\n",
       "      <td>1.0</td>\n",
       "      <td>credit_card</td>\n",
       "      <td>3.0</td>\n",
       "      <td>218.04</td>\n",
       "      <td>940144190dcba6351888cafa43f3a3a5</td>\n",
       "      <td>5</td>\n",
       "      <td>NO COMMENT TITLE</td>\n",
       "      <td>Gostei pois veio no prazo determinado .</td>\n",
       "      <td>02/03/2017 00:00</td>\n",
       "      <td>03/03/2017 10:54</td>\n",
       "    </tr>\n",
       "  </tbody>\n",
       "</table>\n",
       "<p>5 rows × 23 columns</p>\n",
       "</div>"
      ],
      "text/plain": [
       "                           order_id  order_item_id  \\\n",
       "0  00010242fe8c5a6d1ba2dd792cb16214              1   \n",
       "1  00018f77f2f0320c557190d7a144bdd3              1   \n",
       "2  000229ec398224ef6ca0657da4fc703e              1   \n",
       "3  00024acbcdf0a6daa1e931b038114c75              1   \n",
       "4  00042b26cf59d7ce69dfabb4e55b4fd9              1   \n",
       "\n",
       "                         product_id shipping_limit_date   price  \\\n",
       "0  4244733e06e7ecb4970a6e2683c13e61    19/09/2017 09:45   58.90   \n",
       "1  e5f2d52b802189ee658865ca93d83a8f    03/05/2017 11:05  239.90   \n",
       "2  c777355d18b72b67abbeef9df44fd0fd    18/01/2018 14:48  199.00   \n",
       "3  7634da152a4610f1595efa32f14722fc    15/08/2018 10:10   12.99   \n",
       "4  ac6c3623068f30de03045865e4e10089    13/02/2017 13:57  199.90   \n",
       "\n",
       "   freight_value                       customer_id order_status  \\\n",
       "0          13.29  3ce436f183e68e07877b285a838db11a    delivered   \n",
       "1          19.93  f6dd3ec061db4e3987629fe6b26e5cce    delivered   \n",
       "2          17.87  6489ae5e4333f3693df5ad4372dab6d3    delivered   \n",
       "3          12.79  d4eb9395c8c0431ee92fce09860c5a06    delivered   \n",
       "4          18.14  58dbd0b2d70206bf40e62cd34e84d795    delivered   \n",
       "\n",
       "  order_purchase_timestamp order_approved_at  ... payment_sequential  \\\n",
       "0         13/09/2017 08:59  13/09/2017 09:45  ...                1.0   \n",
       "1         26/04/2017 10:53  26/04/2017 11:05  ...                1.0   \n",
       "2         14/01/2018 14:33  14/01/2018 14:48  ...                1.0   \n",
       "3         08/08/2018 10:00  08/08/2018 10:10  ...                1.0   \n",
       "4         04/02/2017 13:57  04/02/2017 14:10  ...                1.0   \n",
       "\n",
       "  payment_type payment_installments  payment_value  \\\n",
       "0  credit_card                  2.0          72.19   \n",
       "1  credit_card                  3.0         259.83   \n",
       "2  credit_card                  5.0         216.87   \n",
       "3  credit_card                  2.0          25.78   \n",
       "4  credit_card                  3.0         218.04   \n",
       "\n",
       "                          review_id  review_score  review_comment_title  \\\n",
       "0  97ca439bc427b48bc1cd7177abe71365             5      NO COMMENT TITLE   \n",
       "1  7b07bacd811c4117b742569b04ce3580             4      NO COMMENT TITLE   \n",
       "2  0c5b33dea94867d1ac402749e5438e8b             5      NO COMMENT TITLE   \n",
       "3  f4028d019cb58564807486a6aaf33817             4      NO COMMENT TITLE   \n",
       "4  940144190dcba6351888cafa43f3a3a5             5      NO COMMENT TITLE   \n",
       "\n",
       "                              review_comment_message review_creation_date  \\\n",
       "0     Perfeito, produto entregue antes do combinado.     21/09/2017 00:00   \n",
       "1                                 NO COMMENT MESSAGE     13/05/2017 00:00   \n",
       "2  Chegou antes do prazo previsto e o produto sur...     23/01/2018 00:00   \n",
       "3                                 NO COMMENT MESSAGE     15/08/2018 00:00   \n",
       "4            Gostei pois veio no prazo determinado .     02/03/2017 00:00   \n",
       "\n",
       "  review_answer_timestamp  \n",
       "0        22/09/2017 10:57  \n",
       "1        15/05/2017 11:34  \n",
       "2        23/01/2018 16:06  \n",
       "3        15/08/2018 16:39  \n",
       "4        03/03/2017 10:54  \n",
       "\n",
       "[5 rows x 23 columns]"
      ]
     },
     "execution_count": 63,
     "metadata": {},
     "output_type": "execute_result"
    }
   ],
   "source": [
    "order_items = pd.merge(order_items, order_reviews_df,\n",
    "                       how=\"left\",\n",
    "                       on=\"order_id\")\n",
    "order_items.head(5)"
   ]
  },
  {
   "cell_type": "markdown",
   "id": "db043810",
   "metadata": {},
   "source": [
    "#### la base globale ( )"
   ]
  },
  {
   "cell_type": "code",
   "execution_count": 64,
   "id": "08acecb2",
   "metadata": {},
   "outputs": [
    {
     "name": "stdout",
     "output_type": "stream",
     "text": [
      "<class 'pandas.core.frame.DataFrame'>\n",
      "Int64Index: 118671 entries, 0 to 118670\n",
      "Data columns (total 28 columns):\n",
      " #   Column                         Non-Null Count   Dtype  \n",
      "---  ------                         --------------   -----  \n",
      " 0   customer_id                    118671 non-null  object \n",
      " 1   customer_unique_id             118671 non-null  object \n",
      " 2   customer_zip_code_prefix       118671 non-null  int64  \n",
      " 3   customer_city                  118671 non-null  object \n",
      " 4   customer_state                 118671 non-null  object \n",
      " 5   order_id                       115708 non-null  object \n",
      " 6   order_item_id                  115708 non-null  float64\n",
      " 7   product_id                     115708 non-null  object \n",
      " 8   shipping_limit_date            115708 non-null  object \n",
      " 9   price                          115708 non-null  float64\n",
      " 10  freight_value                  115708 non-null  float64\n",
      " 11  order_status                   115708 non-null  object \n",
      " 12  order_purchase_timestamp       115708 non-null  object \n",
      " 13  order_approved_at              115708 non-null  object \n",
      " 14  order_delivered_carrier_date   115708 non-null  object \n",
      " 15  order_delivered_customer_date  115708 non-null  object \n",
      " 16  order_estimated_delivery_date  115708 non-null  object \n",
      " 17  payment_sequential             115705 non-null  float64\n",
      " 18  payment_type                   115705 non-null  object \n",
      " 19  payment_installments           115705 non-null  float64\n",
      " 20  payment_value                  115705 non-null  float64\n",
      " 21  review_id                      113298 non-null  object \n",
      " 22  review_score                   113298 non-null  object \n",
      " 23  review_comment_title           113298 non-null  object \n",
      " 24  review_comment_message         113298 non-null  object \n",
      " 25  review_creation_date           113298 non-null  object \n",
      " 26  review_answer_timestamp        113298 non-null  object \n",
      " 27  product_category_name_english  115708 non-null  object \n",
      "dtypes: float64(6), int64(1), object(21)\n",
      "memory usage: 26.3+ MB\n"
     ]
    }
   ],
   "source": [
    "data_p_o = pd.merge(order_items, products,\n",
    "               how=\"left\",\n",
    "               on=\"product_id\")\n",
    "data=pd.merge(customers, data_p_o,\n",
    "              how=\"left\",\n",
    "              on=\"customer_id\")\n",
    "\n",
    "data.info()"
   ]
  },
  {
   "cell_type": "markdown",
   "id": "057084c6-baa6-4296-91b8-0f480eced107",
   "metadata": {},
   "source": [
    "# Nettoyage de la base totale"
   ]
  },
  {
   "cell_type": "code",
   "execution_count": 171,
   "id": "a93469bc-28f6-4206-8372-d9e04557c0b7",
   "metadata": {},
   "outputs": [
    {
     "data": {
      "text/plain": [
       "(118671, 28)"
      ]
     },
     "execution_count": 171,
     "metadata": {},
     "output_type": "execute_result"
    }
   ],
   "source": [
    "data.shape"
   ]
  },
  {
   "cell_type": "code",
   "execution_count": 172,
   "id": "3c08cb47",
   "metadata": {},
   "outputs": [
    {
     "data": {
      "text/plain": [
       "customer_id                         0\n",
       "customer_unique_id                  0\n",
       "customer_zip_code_prefix            0\n",
       "customer_city                       0\n",
       "customer_state                      0\n",
       "order_id                         2963\n",
       "order_item_id                    2963\n",
       "product_id                       2963\n",
       "shipping_limit_date              2963\n",
       "price                            2963\n",
       "freight_value                    2963\n",
       "order_status                     2963\n",
       "order_purchase_timestamp         2963\n",
       "order_approved_at                2963\n",
       "order_delivered_carrier_date     2963\n",
       "order_delivered_customer_date    2963\n",
       "order_estimated_delivery_date    2963\n",
       "payment_sequential               2966\n",
       "payment_type                     2966\n",
       "payment_installments             2966\n",
       "payment_value                    2966\n",
       "review_id                        5373\n",
       "review_score                     5373\n",
       "review_comment_title             5373\n",
       "review_comment_message           5373\n",
       "review_creation_date             5373\n",
       "review_answer_timestamp          5373\n",
       "product_category_name_english    2963\n",
       "dtype: int64"
      ]
     },
     "execution_count": 172,
     "metadata": {},
     "output_type": "execute_result"
    }
   ],
   "source": [
    "data.isna().sum()"
   ]
  },
  {
   "cell_type": "code",
   "execution_count": 65,
   "id": "2d7ac07d",
   "metadata": {},
   "outputs": [],
   "source": [
    "#suppression de certaines colonnes \n",
    "data=data.drop(columns=['shipping_limit_date',\n",
    "                        'order_purchase_timestamp','order_approved_at',\n",
    "                        'order_delivered_carrier_date','order_delivered_customer_date',\n",
    "                        'order_estimated_delivery_date'\n",
    "                       ])"
   ]
  },
  {
   "cell_type": "code",
   "execution_count": 66,
   "id": "db3d2e17",
   "metadata": {},
   "outputs": [],
   "source": [
    "data=data.drop(columns=['review_comment_title','review_comment_message','review_creation_date',\n",
    "                       'review_answer_timestamp'])"
   ]
  },
  {
   "cell_type": "code",
   "execution_count": 177,
   "id": "b43d16ee",
   "metadata": {},
   "outputs": [
    {
     "data": {
      "text/plain": [
       "customer_id                         0\n",
       "customer_unique_id                  0\n",
       "customer_zip_code_prefix            0\n",
       "customer_city                       0\n",
       "customer_state                      0\n",
       "order_id                         2963\n",
       "order_item_id                    2963\n",
       "product_id                       2963\n",
       "price                            2963\n",
       "freight_value                    2963\n",
       "order_status                     2963\n",
       "payment_sequential               2966\n",
       "payment_type                     2966\n",
       "payment_installments             2966\n",
       "payment_value                    2966\n",
       "review_id                        5373\n",
       "review_score                     5373\n",
       "product_category_name_english    2963\n",
       "dtype: int64"
      ]
     },
     "execution_count": 177,
     "metadata": {},
     "output_type": "execute_result"
    }
   ],
   "source": [
    "data.isna().sum()"
   ]
  },
  {
   "cell_type": "code",
   "execution_count": 67,
   "id": "7ed4f292",
   "metadata": {},
   "outputs": [],
   "source": [
    "#Imputation des valeurs manquantes\n",
    "data['price'].fillna(data['price'].mean(), inplace=True)\n"
   ]
  },
  {
   "cell_type": "code",
   "execution_count": 68,
   "id": "91ee749f",
   "metadata": {},
   "outputs": [],
   "source": [
    "data['freight_value'].fillna(data['freight_value'].mean(), inplace=True)"
   ]
  },
  {
   "cell_type": "code",
   "execution_count": 69,
   "id": "b25fda46",
   "metadata": {},
   "outputs": [],
   "source": [
    "data['payment_value'].fillna(data['payment_value'].mean(), inplace=True)\n"
   ]
  },
  {
   "cell_type": "code",
   "execution_count": 70,
   "id": "6214b0ed",
   "metadata": {},
   "outputs": [],
   "source": [
    "data['review_score'].fillna(data['review_score'].median(), inplace=True)"
   ]
  },
  {
   "cell_type": "code",
   "execution_count": 80,
   "id": "1880f3a7",
   "metadata": {},
   "outputs": [
    {
     "data": {
      "text/plain": [
       "customer_id                         0\n",
       "customer_unique_id                  0\n",
       "customer_zip_code_prefix            0\n",
       "customer_city                       0\n",
       "customer_state                      0\n",
       "order_id                         2963\n",
       "order_item_id                    2963\n",
       "product_id                       2963\n",
       "price                               0\n",
       "freight_value                       0\n",
       "order_status                     2963\n",
       "payment_sequential               2966\n",
       "payment_type                     2966\n",
       "payment_installments             2966\n",
       "payment_value                       0\n",
       "review_id                        5373\n",
       "review_score                        0\n",
       "product_category_name_english    2963\n",
       "Nb_tot_pdts                         0\n",
       "Tot_moy_achats                   2758\n",
       "Mont_max_achats                  2758\n",
       "nb_payment_dif_com               2963\n",
       "nmbre_echea_tot                  2963\n",
       "nb_commandes                        0\n",
       "dtype: int64"
      ]
     },
     "execution_count": 80,
     "metadata": {},
     "output_type": "execute_result"
    }
   ],
   "source": [
    "data.isna().sum()"
   ]
  },
  {
   "cell_type": "code",
   "execution_count": 210,
   "id": "ae6e28cf",
   "metadata": {},
   "outputs": [
    {
     "data": {
      "text/plain": [
       "0"
      ]
     },
     "execution_count": 210,
     "metadata": {},
     "output_type": "execute_result"
    }
   ],
   "source": [
    "data.duplicated().sum()"
   ]
  },
  {
   "cell_type": "markdown",
   "id": "a3ac4b11-94d6-49f8-a883-1ded96163f1d",
   "metadata": {},
   "source": [
    "## Creations des variables"
   ]
  },
  {
   "cell_type": "markdown",
   "id": "85a774b5-5295-41be-b217-709c1821c400",
   "metadata": {},
   "source": [
    "A présent, nous allons créer de nouvelles variables pour mieux faire nos analyses :\n",
    "   * Nombre de produits achetés par client\n",
    "   * catégorie de produit le plus acheté\n",
    "   * montant maximum des achats\n",
    "   * nombre moyen de produits par commande\n",
    "   * score moyen donné par le client\n",
    "   * moyen de paiement le plus utilisé \n",
    "   * montant dépense par catégorie de produit\n",
    "   * nombre de moyens de paiement différents utilisés sur la commande\n",
    "   * nombre d'échéances totales de la commande."
   ]
  },
  {
   "cell_type": "markdown",
   "id": "9bae6ea7-634b-4f34-9582-65dd106521b5",
   "metadata": {},
   "source": [
    "#### nombre de produits achetés par client"
   ]
  },
  {
   "cell_type": "code",
   "execution_count": 71,
   "id": "fbb01efd-396d-4bb7-9d6a-d791ee1a95c6",
   "metadata": {
    "tags": []
   },
   "outputs": [
    {
     "data": {
      "text/plain": [
       "customer_unique_id\n",
       "0000366f3b9a7992bf8c76cfdf3221e2    1\n",
       "0000b849f77a49e4a4ce2b2a4ca5be3f    1\n",
       "0000f46a3911fa3c0805444483337064    1\n",
       "0000f6ccb0745a6a4b88665a16c9f078    1\n",
       "0004aac84e0df4da2b147fca70cf8255    1\n",
       "                                   ..\n",
       "fffcf5a5ff07b0908bd4e2dbc735a684    2\n",
       "fffea47cd6d3cc0a88bd621562a9d061    1\n",
       "ffff371b4d645b6ecea244b27531430a    1\n",
       "ffff5962728ec6157033ef9805bacc48    1\n",
       "ffffd2657e2aad2907e67c3e9daecbeb    1\n",
       "Name: Nb_tot_pdts, Length: 96096, dtype: int64"
      ]
     },
     "execution_count": 71,
     "metadata": {},
     "output_type": "execute_result"
    }
   ],
   "source": [
    "\n",
    "nb_produits_client =data.groupby('customer_unique_id')['product_id'].count()\n",
    "nb_produits_client.rename('Nb_tot_pdts', inplace=True)"
   ]
  },
  {
   "cell_type": "code",
   "execution_count": 72,
   "id": "c73e53f0-c483-4bd3-8d8e-953d46878db4",
   "metadata": {},
   "outputs": [
    {
     "data": {
      "text/html": [
       "<div>\n",
       "<style scoped>\n",
       "    .dataframe tbody tr th:only-of-type {\n",
       "        vertical-align: middle;\n",
       "    }\n",
       "\n",
       "    .dataframe tbody tr th {\n",
       "        vertical-align: top;\n",
       "    }\n",
       "\n",
       "    .dataframe thead th {\n",
       "        text-align: right;\n",
       "    }\n",
       "</style>\n",
       "<table border=\"1\" class=\"dataframe\">\n",
       "  <thead>\n",
       "    <tr style=\"text-align: right;\">\n",
       "      <th></th>\n",
       "      <th>customer_id</th>\n",
       "      <th>customer_unique_id</th>\n",
       "      <th>customer_zip_code_prefix</th>\n",
       "      <th>customer_city</th>\n",
       "      <th>customer_state</th>\n",
       "      <th>order_id</th>\n",
       "      <th>order_item_id</th>\n",
       "      <th>product_id</th>\n",
       "      <th>price</th>\n",
       "      <th>freight_value</th>\n",
       "      <th>order_status</th>\n",
       "      <th>payment_sequential</th>\n",
       "      <th>payment_type</th>\n",
       "      <th>payment_installments</th>\n",
       "      <th>payment_value</th>\n",
       "      <th>review_id</th>\n",
       "      <th>review_score</th>\n",
       "      <th>product_category_name_english</th>\n",
       "      <th>Nb_tot_pdts</th>\n",
       "    </tr>\n",
       "  </thead>\n",
       "  <tbody>\n",
       "    <tr>\n",
       "      <th>0</th>\n",
       "      <td>06b8999e2fba1a1fbc88172c00ba8bc7</td>\n",
       "      <td>861eff4711a542e4b93843c6dd7febb0</td>\n",
       "      <td>14409</td>\n",
       "      <td>franca</td>\n",
       "      <td>SP</td>\n",
       "      <td>00e7ee1b050b8499577073aeb2a297a1</td>\n",
       "      <td>1.0</td>\n",
       "      <td>a9516a079e37a9c9c36b9b78b10169e8</td>\n",
       "      <td>124.99</td>\n",
       "      <td>21.88</td>\n",
       "      <td>delivered</td>\n",
       "      <td>1.0</td>\n",
       "      <td>credit_card</td>\n",
       "      <td>2.0</td>\n",
       "      <td>146.87</td>\n",
       "      <td>88b8b52d46df026a9d1ad2136a59b30b</td>\n",
       "      <td>4</td>\n",
       "      <td>office_furniture</td>\n",
       "      <td>1</td>\n",
       "    </tr>\n",
       "    <tr>\n",
       "      <th>1</th>\n",
       "      <td>18955e83d337fd6b2def6b18a428ac77</td>\n",
       "      <td>290c77bc529b7ac935b93aa66c333dc3</td>\n",
       "      <td>9790</td>\n",
       "      <td>sao bernardo do campo</td>\n",
       "      <td>SP</td>\n",
       "      <td>29150127e6685892b6eab3eec79f59c7</td>\n",
       "      <td>1.0</td>\n",
       "      <td>4aa6014eceb682077f9dc4bffebc05b0</td>\n",
       "      <td>289.00</td>\n",
       "      <td>46.48</td>\n",
       "      <td>delivered</td>\n",
       "      <td>1.0</td>\n",
       "      <td>credit_card</td>\n",
       "      <td>8.0</td>\n",
       "      <td>335.48</td>\n",
       "      <td>02fc48a9efa3e3d0f1a8ea26507eeec3</td>\n",
       "      <td>5</td>\n",
       "      <td>housewares</td>\n",
       "      <td>1</td>\n",
       "    </tr>\n",
       "    <tr>\n",
       "      <th>2</th>\n",
       "      <td>4e7b3e00288586ebd08712fdd0374a03</td>\n",
       "      <td>060e732b5b29e8181a18229c7b0b2b5e</td>\n",
       "      <td>1151</td>\n",
       "      <td>sao paulo</td>\n",
       "      <td>SP</td>\n",
       "      <td>b2059ed67ce144a36e2aa97d2c9e9ad2</td>\n",
       "      <td>1.0</td>\n",
       "      <td>bd07b66896d6f1494f5b86251848ced7</td>\n",
       "      <td>139.94</td>\n",
       "      <td>17.79</td>\n",
       "      <td>delivered</td>\n",
       "      <td>1.0</td>\n",
       "      <td>credit_card</td>\n",
       "      <td>7.0</td>\n",
       "      <td>157.73</td>\n",
       "      <td>5ad6695d76ee186dc473c42706984d87</td>\n",
       "      <td>5</td>\n",
       "      <td>office_furniture</td>\n",
       "      <td>1</td>\n",
       "    </tr>\n",
       "    <tr>\n",
       "      <th>3</th>\n",
       "      <td>b2b6027bc5c5109e529d4dc6358b12c3</td>\n",
       "      <td>259dac757896d24d7702b9acbbff3f3c</td>\n",
       "      <td>8775</td>\n",
       "      <td>mogi das cruzes</td>\n",
       "      <td>SP</td>\n",
       "      <td>951670f92359f4fe4a63112aa7306eba</td>\n",
       "      <td>1.0</td>\n",
       "      <td>a5647c44af977b148e0a3a4751a09e2e</td>\n",
       "      <td>149.94</td>\n",
       "      <td>23.36</td>\n",
       "      <td>delivered</td>\n",
       "      <td>1.0</td>\n",
       "      <td>credit_card</td>\n",
       "      <td>1.0</td>\n",
       "      <td>173.30</td>\n",
       "      <td>059a801bb31f6aab2266e672cab87bc5</td>\n",
       "      <td>5</td>\n",
       "      <td>office_furniture</td>\n",
       "      <td>1</td>\n",
       "    </tr>\n",
       "  </tbody>\n",
       "</table>\n",
       "</div>"
      ],
      "text/plain": [
       "                        customer_id                customer_unique_id  \\\n",
       "0  06b8999e2fba1a1fbc88172c00ba8bc7  861eff4711a542e4b93843c6dd7febb0   \n",
       "1  18955e83d337fd6b2def6b18a428ac77  290c77bc529b7ac935b93aa66c333dc3   \n",
       "2  4e7b3e00288586ebd08712fdd0374a03  060e732b5b29e8181a18229c7b0b2b5e   \n",
       "3  b2b6027bc5c5109e529d4dc6358b12c3  259dac757896d24d7702b9acbbff3f3c   \n",
       "\n",
       "   customer_zip_code_prefix          customer_city customer_state  \\\n",
       "0                     14409                 franca             SP   \n",
       "1                      9790  sao bernardo do campo             SP   \n",
       "2                      1151              sao paulo             SP   \n",
       "3                      8775        mogi das cruzes             SP   \n",
       "\n",
       "                           order_id  order_item_id  \\\n",
       "0  00e7ee1b050b8499577073aeb2a297a1            1.0   \n",
       "1  29150127e6685892b6eab3eec79f59c7            1.0   \n",
       "2  b2059ed67ce144a36e2aa97d2c9e9ad2            1.0   \n",
       "3  951670f92359f4fe4a63112aa7306eba            1.0   \n",
       "\n",
       "                         product_id   price  freight_value order_status  \\\n",
       "0  a9516a079e37a9c9c36b9b78b10169e8  124.99          21.88    delivered   \n",
       "1  4aa6014eceb682077f9dc4bffebc05b0  289.00          46.48    delivered   \n",
       "2  bd07b66896d6f1494f5b86251848ced7  139.94          17.79    delivered   \n",
       "3  a5647c44af977b148e0a3a4751a09e2e  149.94          23.36    delivered   \n",
       "\n",
       "   payment_sequential payment_type  payment_installments  payment_value  \\\n",
       "0                 1.0  credit_card                   2.0         146.87   \n",
       "1                 1.0  credit_card                   8.0         335.48   \n",
       "2                 1.0  credit_card                   7.0         157.73   \n",
       "3                 1.0  credit_card                   1.0         173.30   \n",
       "\n",
       "                          review_id review_score  \\\n",
       "0  88b8b52d46df026a9d1ad2136a59b30b            4   \n",
       "1  02fc48a9efa3e3d0f1a8ea26507eeec3            5   \n",
       "2  5ad6695d76ee186dc473c42706984d87            5   \n",
       "3  059a801bb31f6aab2266e672cab87bc5            5   \n",
       "\n",
       "  product_category_name_english  Nb_tot_pdts  \n",
       "0              office_furniture            1  \n",
       "1                    housewares            1  \n",
       "2              office_furniture            1  \n",
       "3              office_furniture            1  "
      ]
     },
     "execution_count": 72,
     "metadata": {},
     "output_type": "execute_result"
    }
   ],
   "source": [
    "data = pd.merge(data,nb_produits_client,\n",
    "               how=\"left\",\n",
    "               on=\"customer_unique_id\")\n",
    "data.head(4)"
   ]
  },
  {
   "cell_type": "markdown",
   "id": "800c1e53-9e24-47ef-989c-12eb84144cfe",
   "metadata": {},
   "source": [
    "#### Montant moyen des achats"
   ]
  },
  {
   "cell_type": "code",
   "execution_count": 73,
   "id": "9eb5e0e0-6105-4498-9e52-5ea356f4aea3",
   "metadata": {},
   "outputs": [
    {
     "data": {
      "text/plain": [
       "customer_unique_id\n",
       "0000366f3b9a7992bf8c76cfdf3221e2     129.90\n",
       "0000b849f77a49e4a4ce2b2a4ca5be3f      18.90\n",
       "0000f46a3911fa3c0805444483337064      69.00\n",
       "0000f6ccb0745a6a4b88665a16c9f078      25.99\n",
       "0004aac84e0df4da2b147fca70cf8255     180.00\n",
       "                                     ...   \n",
       "fffcf5a5ff07b0908bd4e2dbc735a684    1570.00\n",
       "fffea47cd6d3cc0a88bd621562a9d061      64.89\n",
       "ffff371b4d645b6ecea244b27531430a      89.90\n",
       "ffff5962728ec6157033ef9805bacc48     115.00\n",
       "ffffd2657e2aad2907e67c3e9daecbeb      56.99\n",
       "Name: Tot_moy_achats, Length: 93358, dtype: float64"
      ]
     },
     "execution_count": 73,
     "metadata": {},
     "output_type": "execute_result"
    }
   ],
   "source": [
    "achats_moyen=data.groupby(['customer_unique_id', 'order_id'])['price'].sum().groupby(['customer_unique_id']).mean()\n",
    "achats_moyen.rename('Tot_moy_achats', inplace=True)"
   ]
  },
  {
   "cell_type": "code",
   "execution_count": 74,
   "id": "286cb050-c19d-463c-af46-3d1a7770efcf",
   "metadata": {},
   "outputs": [],
   "source": [
    "data=pd.merge(data,achats_moyen,\n",
    "              how=\"left\", on=\"customer_unique_id\")"
   ]
  },
  {
   "cell_type": "code",
   "execution_count": 75,
   "id": "fede3bce",
   "metadata": {},
   "outputs": [
    {
     "data": {
      "text/html": [
       "<div>\n",
       "<style scoped>\n",
       "    .dataframe tbody tr th:only-of-type {\n",
       "        vertical-align: middle;\n",
       "    }\n",
       "\n",
       "    .dataframe tbody tr th {\n",
       "        vertical-align: top;\n",
       "    }\n",
       "\n",
       "    .dataframe thead th {\n",
       "        text-align: right;\n",
       "    }\n",
       "</style>\n",
       "<table border=\"1\" class=\"dataframe\">\n",
       "  <thead>\n",
       "    <tr style=\"text-align: right;\">\n",
       "      <th></th>\n",
       "      <th>customer_id</th>\n",
       "      <th>customer_unique_id</th>\n",
       "      <th>customer_zip_code_prefix</th>\n",
       "      <th>customer_city</th>\n",
       "      <th>customer_state</th>\n",
       "      <th>order_id</th>\n",
       "      <th>order_item_id</th>\n",
       "      <th>product_id</th>\n",
       "      <th>price</th>\n",
       "      <th>freight_value</th>\n",
       "      <th>order_status</th>\n",
       "      <th>payment_sequential</th>\n",
       "      <th>payment_type</th>\n",
       "      <th>payment_installments</th>\n",
       "      <th>payment_value</th>\n",
       "      <th>review_id</th>\n",
       "      <th>review_score</th>\n",
       "      <th>product_category_name_english</th>\n",
       "      <th>Nb_tot_pdts</th>\n",
       "      <th>Tot_moy_achats</th>\n",
       "    </tr>\n",
       "  </thead>\n",
       "  <tbody>\n",
       "    <tr>\n",
       "      <th>0</th>\n",
       "      <td>06b8999e2fba1a1fbc88172c00ba8bc7</td>\n",
       "      <td>861eff4711a542e4b93843c6dd7febb0</td>\n",
       "      <td>14409</td>\n",
       "      <td>franca</td>\n",
       "      <td>SP</td>\n",
       "      <td>00e7ee1b050b8499577073aeb2a297a1</td>\n",
       "      <td>1.0</td>\n",
       "      <td>a9516a079e37a9c9c36b9b78b10169e8</td>\n",
       "      <td>124.99</td>\n",
       "      <td>21.88</td>\n",
       "      <td>delivered</td>\n",
       "      <td>1.0</td>\n",
       "      <td>credit_card</td>\n",
       "      <td>2.0</td>\n",
       "      <td>146.87</td>\n",
       "      <td>88b8b52d46df026a9d1ad2136a59b30b</td>\n",
       "      <td>4</td>\n",
       "      <td>office_furniture</td>\n",
       "      <td>1</td>\n",
       "      <td>124.99</td>\n",
       "    </tr>\n",
       "  </tbody>\n",
       "</table>\n",
       "</div>"
      ],
      "text/plain": [
       "                        customer_id                customer_unique_id  \\\n",
       "0  06b8999e2fba1a1fbc88172c00ba8bc7  861eff4711a542e4b93843c6dd7febb0   \n",
       "\n",
       "   customer_zip_code_prefix customer_city customer_state  \\\n",
       "0                     14409        franca             SP   \n",
       "\n",
       "                           order_id  order_item_id  \\\n",
       "0  00e7ee1b050b8499577073aeb2a297a1            1.0   \n",
       "\n",
       "                         product_id   price  freight_value order_status  \\\n",
       "0  a9516a079e37a9c9c36b9b78b10169e8  124.99          21.88    delivered   \n",
       "\n",
       "   payment_sequential payment_type  payment_installments  payment_value  \\\n",
       "0                 1.0  credit_card                   2.0         146.87   \n",
       "\n",
       "                          review_id review_score  \\\n",
       "0  88b8b52d46df026a9d1ad2136a59b30b            4   \n",
       "\n",
       "  product_category_name_english  Nb_tot_pdts  Tot_moy_achats  \n",
       "0              office_furniture            1          124.99  "
      ]
     },
     "execution_count": 75,
     "metadata": {},
     "output_type": "execute_result"
    }
   ],
   "source": [
    "data.head(1)"
   ]
  },
  {
   "cell_type": "markdown",
   "id": "e02b3a28-3a9b-4cf9-ac17-fc8437fd7df0",
   "metadata": {},
   "source": [
    "#### Montant maximum des achats"
   ]
  },
  {
   "cell_type": "code",
   "execution_count": 76,
   "id": "93631579-812e-498f-99e4-d62494129ab1",
   "metadata": {},
   "outputs": [],
   "source": [
    "mont_max_achat=data.groupby(['customer_unique_id', 'order_id'])['price'].max().groupby(['customer_unique_id']).max()\n",
    "mont_max_achat.rename('Mont_max_achats',inplace=True)\n",
    "data=pd.merge(data,mont_max_achat,\n",
    "              how=\"left\", on=\"customer_unique_id\")"
   ]
  },
  {
   "cell_type": "markdown",
   "id": "d0e31ef5-904c-4d0a-bf49-9c6fe11bf096",
   "metadata": {},
   "source": [
    "#### Le nombre de moyens de paiement différents utilisés sur la commande et nombre d'échéances totales de la commande."
   ]
  },
  {
   "cell_type": "code",
   "execution_count": 77,
   "id": "c112bc67-e3cd-45c6-acb4-98ba915641b2",
   "metadata": {},
   "outputs": [],
   "source": [
    "g_pay_com =data.groupby(by=\"order_id\").agg(\n",
    "    {\"payment_sequential\": 'count',\n",
    "     \"payment_installments\": 'sum'})\n",
    "g_pay_com.rename(columns={\n",
    "    \"payment_sequential\": \"nb_payment_dif_com\",\n",
    "    \"payment_installments\": \"nmbre_echea_tot\"},inplace=True)\n",
    "data=pd.merge(data, g_pay_com,\n",
    "              how=\"left\",\n",
    "              on=\"order_id\")\n",
    "\n"
   ]
  },
  {
   "cell_type": "markdown",
   "id": "42d5fafe-f635-4be7-9a8e-f3b58f2d2990",
   "metadata": {},
   "source": [
    "#### Nombre de commandes"
   ]
  },
  {
   "cell_type": "code",
   "execution_count": 78,
   "id": "cd8f0f13-9f80-4613-a6ec-bae40db3eca7",
   "metadata": {},
   "outputs": [],
   "source": [
    "nb_commades = data.groupby(\"customer_unique_id\")\\\n",
    "            .agg({\"order_id\": \"nunique\"}, inplace=True)\n",
    "nb_commades.rename(columns={\"order_id\": \"nb_commandes\"}, inplace=True)\n",
    "data=pd.merge(data, nb_commades, how=\"left\", on=\"customer_unique_id\")\n"
   ]
  },
  {
   "cell_type": "markdown",
   "id": "7e8948b6-c1a6-4565-af37-a8318452f914",
   "metadata": {},
   "source": [
    "#### Score moyen donné par les clients"
   ]
  },
  {
   "cell_type": "code",
   "execution_count": 106,
   "id": "0a32509d-8660-4e25-9082-292721a388f8",
   "metadata": {},
   "outputs": [],
   "source": [
    "score_moy =data.groupby(\n",
    "        'customer_unique_id')['review_score'].mean()\n",
    "score_moy.rename('Note_Moy_Com', inplace=True)\n",
    "\n",
    "data=pd.merge(data,score_moy, how=\"left\", on=\"customer_unique_id\")"
   ]
  },
  {
   "cell_type": "markdown",
   "id": "216974c9",
   "metadata": {},
   "source": [
    "#### Les premières villes"
   ]
  },
  {
   "cell_type": "markdown",
   "id": "647cad07-f78e-426a-8ee6-5af1a5da8000",
   "metadata": {},
   "source": [
    "Nous allons restreindre les villes à 100"
   ]
  },
  {
   "cell_type": "code",
   "execution_count": 107,
   "id": "5b072d14-4c04-48f3-9c7f-3d390017a1e9",
   "metadata": {},
   "outputs": [],
   "source": [
    "first_cities = data.groupby(['customer_city']).count()[\n",
    "        'customer_state'].sort_values(ascending=False).head(100).index.tolist()\n",
    "index_cities = data[~data['customer_city'].isin(\n",
    "        first_cities)].index\n",
    "data.loc[index_cities, 'customer_city'] = 'autres_villes'\n",
    "\n"
   ]
  },
  {
   "cell_type": "markdown",
   "id": "26d1c68a-b8bd-436f-af9f-f0cf463df6ec",
   "metadata": {},
   "source": [
    "#### catégorie de produit la plus achetée"
   ]
  },
  {
   "cell_type": "code",
   "execution_count": 108,
   "id": "e2aaed05-ad7c-4b61-a3b9-f8eb8d7f82b8",
   "metadata": {},
   "outputs": [],
   "source": [
    "cat = data.sort_values(\n",
    "        ['customer_unique_id','product_category_name_english'], ascending=False).groupby(\n",
    "        ['customer_unique_id','product_category_name_english']).head(1)[[\n",
    "        'customer_unique_id', 'product_category_name_english']]\n",
    "cat.columns = ['customer_unique_id', 'Cat_la_plus_achetee']\n",
    "cat.set_index('customer_unique_id', inplace=True)\n",
    "data=pd.merge(data, cat, how=\"left\", on=\"customer_unique_id\")"
   ]
  },
  {
   "cell_type": "markdown",
   "id": "7b4b97ba-459b-4981-944a-6c4488ede2b9",
   "metadata": {},
   "source": [
    "#### nombre moyen de produits achetés par commande"
   ]
  },
  {
   "cell_type": "code",
   "execution_count": 109,
   "id": "fce8a818-9b45-4d41-8963-d1ae8219eb6e",
   "metadata": {},
   "outputs": [],
   "source": [
    "nb_moyen_prod = data.groupby(\n",
    "    ['customer_unique_id', 'order_id'])['price'].count().groupby(['customer_unique_id']).mean()\n",
    "nb_moyen_prod.rename('Nb_moy_pdts_par_com', inplace=True) \n",
    "data=pd.merge(data, nb_moyen_prod, how=\"left\", on=\"customer_unique_id\")\n"
   ]
  },
  {
   "cell_type": "code",
   "execution_count": 110,
   "id": "06d43232-29d1-4e83-9eab-82e7d3aade76",
   "metadata": {},
   "outputs": [
    {
     "data": {
      "text/html": [
       "<div>\n",
       "<style scoped>\n",
       "    .dataframe tbody tr th:only-of-type {\n",
       "        vertical-align: middle;\n",
       "    }\n",
       "\n",
       "    .dataframe tbody tr th {\n",
       "        vertical-align: top;\n",
       "    }\n",
       "\n",
       "    .dataframe thead th {\n",
       "        text-align: right;\n",
       "    }\n",
       "</style>\n",
       "<table border=\"1\" class=\"dataframe\">\n",
       "  <thead>\n",
       "    <tr style=\"text-align: right;\">\n",
       "      <th></th>\n",
       "      <th>customer_zip_code_prefix</th>\n",
       "      <th>order_item_id</th>\n",
       "      <th>price</th>\n",
       "      <th>freight_value</th>\n",
       "      <th>payment_sequential</th>\n",
       "      <th>payment_installments</th>\n",
       "      <th>payment_value</th>\n",
       "      <th>review_score</th>\n",
       "      <th>Nb_tot_pdts</th>\n",
       "      <th>Tot_moy_achats</th>\n",
       "      <th>Mont_max_achats</th>\n",
       "      <th>nb_payment_dif_com</th>\n",
       "      <th>nmbre_echea_tot</th>\n",
       "      <th>nb_commandes</th>\n",
       "      <th>Note_Moy_Com</th>\n",
       "      <th>Nb_moy_pdts_par_com</th>\n",
       "    </tr>\n",
       "  </thead>\n",
       "  <tbody>\n",
       "    <tr>\n",
       "      <th>count</th>\n",
       "      <td>125962.000000</td>\n",
       "      <td>122971.000000</td>\n",
       "      <td>125962.00000</td>\n",
       "      <td>125962.000000</td>\n",
       "      <td>122968.000000</td>\n",
       "      <td>122968.000000</td>\n",
       "      <td>125962.000000</td>\n",
       "      <td>125962.000000</td>\n",
       "      <td>125962.000000</td>\n",
       "      <td>123204.000000</td>\n",
       "      <td>123204.000000</td>\n",
       "      <td>122971.000000</td>\n",
       "      <td>122971.000000</td>\n",
       "      <td>125962.000000</td>\n",
       "      <td>125962.000000</td>\n",
       "      <td>123204.000000</td>\n",
       "    </tr>\n",
       "    <tr>\n",
       "      <th>mean</th>\n",
       "      <td>34942.953677</td>\n",
       "      <td>1.211334</td>\n",
       "      <td>118.31134</td>\n",
       "      <td>19.937756</td>\n",
       "      <td>1.103385</td>\n",
       "      <td>2.984020</td>\n",
       "      <td>172.201312</td>\n",
       "      <td>4.111264</td>\n",
       "      <td>1.994260</td>\n",
       "      <td>181.272944</td>\n",
       "      <td>125.939393</td>\n",
       "      <td>1.770417</td>\n",
       "      <td>5.066414</td>\n",
       "      <td>1.130238</td>\n",
       "      <td>4.111264</td>\n",
       "      <td>2.126143</td>\n",
       "    </tr>\n",
       "    <tr>\n",
       "      <th>std</th>\n",
       "      <td>29845.103692</td>\n",
       "      <td>0.716071</td>\n",
       "      <td>177.21706</td>\n",
       "      <td>15.459019</td>\n",
       "      <td>0.782454</td>\n",
       "      <td>2.818207</td>\n",
       "      <td>259.172977</td>\n",
       "      <td>1.340498</td>\n",
       "      <td>3.835652</td>\n",
       "      <td>378.741929</td>\n",
       "      <td>184.402706</td>\n",
       "      <td>3.087028</td>\n",
       "      <td>8.549764</td>\n",
       "      <td>0.631627</td>\n",
       "      <td>1.317571</td>\n",
       "      <td>5.325344</td>\n",
       "    </tr>\n",
       "    <tr>\n",
       "      <th>min</th>\n",
       "      <td>1003.000000</td>\n",
       "      <td>1.000000</td>\n",
       "      <td>0.85000</td>\n",
       "      <td>0.000000</td>\n",
       "      <td>1.000000</td>\n",
       "      <td>0.000000</td>\n",
       "      <td>0.000000</td>\n",
       "      <td>1.000000</td>\n",
       "      <td>0.000000</td>\n",
       "      <td>0.850000</td>\n",
       "      <td>0.850000</td>\n",
       "      <td>0.000000</td>\n",
       "      <td>0.000000</td>\n",
       "      <td>0.000000</td>\n",
       "      <td>1.000000</td>\n",
       "      <td>1.000000</td>\n",
       "    </tr>\n",
       "    <tr>\n",
       "      <th>25%</th>\n",
       "      <td>11070.000000</td>\n",
       "      <td>1.000000</td>\n",
       "      <td>39.90000</td>\n",
       "      <td>13.100000</td>\n",
       "      <td>1.000000</td>\n",
       "      <td>1.000000</td>\n",
       "      <td>61.982500</td>\n",
       "      <td>4.000000</td>\n",
       "      <td>1.000000</td>\n",
       "      <td>52.000000</td>\n",
       "      <td>44.900000</td>\n",
       "      <td>1.000000</td>\n",
       "      <td>1.000000</td>\n",
       "      <td>1.000000</td>\n",
       "      <td>4.000000</td>\n",
       "      <td>1.000000</td>\n",
       "    </tr>\n",
       "    <tr>\n",
       "      <th>50%</th>\n",
       "      <td>24230.000000</td>\n",
       "      <td>1.000000</td>\n",
       "      <td>75.00000</td>\n",
       "      <td>16.460000</td>\n",
       "      <td>1.000000</td>\n",
       "      <td>2.000000</td>\n",
       "      <td>112.100000</td>\n",
       "      <td>5.000000</td>\n",
       "      <td>1.000000</td>\n",
       "      <td>99.900000</td>\n",
       "      <td>79.900000</td>\n",
       "      <td>1.000000</td>\n",
       "      <td>2.000000</td>\n",
       "      <td>1.000000</td>\n",
       "      <td>5.000000</td>\n",
       "      <td>1.000000</td>\n",
       "    </tr>\n",
       "    <tr>\n",
       "      <th>75%</th>\n",
       "      <td>58280.000000</td>\n",
       "      <td>1.000000</td>\n",
       "      <td>129.90000</td>\n",
       "      <td>21.050000</td>\n",
       "      <td>1.000000</td>\n",
       "      <td>4.000000</td>\n",
       "      <td>188.070000</td>\n",
       "      <td>5.000000</td>\n",
       "      <td>2.000000</td>\n",
       "      <td>179.900000</td>\n",
       "      <td>139.990000</td>\n",
       "      <td>2.000000</td>\n",
       "      <td>6.000000</td>\n",
       "      <td>1.000000</td>\n",
       "      <td>5.000000</td>\n",
       "      <td>2.000000</td>\n",
       "    </tr>\n",
       "    <tr>\n",
       "      <th>max</th>\n",
       "      <td>99990.000000</td>\n",
       "      <td>21.000000</td>\n",
       "      <td>6735.00000</td>\n",
       "      <td>409.680000</td>\n",
       "      <td>26.000000</td>\n",
       "      <td>24.000000</td>\n",
       "      <td>13664.080000</td>\n",
       "      <td>5.000000</td>\n",
       "      <td>75.000000</td>\n",
       "      <td>13440.000000</td>\n",
       "      <td>6735.000000</td>\n",
       "      <td>63.000000</td>\n",
       "      <td>240.000000</td>\n",
       "      <td>15.000000</td>\n",
       "      <td>5.000000</td>\n",
       "      <td>112.500000</td>\n",
       "    </tr>\n",
       "  </tbody>\n",
       "</table>\n",
       "</div>"
      ],
      "text/plain": [
       "       customer_zip_code_prefix  order_item_id         price  freight_value  \\\n",
       "count             125962.000000  122971.000000  125962.00000  125962.000000   \n",
       "mean               34942.953677       1.211334     118.31134      19.937756   \n",
       "std                29845.103692       0.716071     177.21706      15.459019   \n",
       "min                 1003.000000       1.000000       0.85000       0.000000   \n",
       "25%                11070.000000       1.000000      39.90000      13.100000   \n",
       "50%                24230.000000       1.000000      75.00000      16.460000   \n",
       "75%                58280.000000       1.000000     129.90000      21.050000   \n",
       "max                99990.000000      21.000000    6735.00000     409.680000   \n",
       "\n",
       "       payment_sequential  payment_installments  payment_value   review_score  \\\n",
       "count       122968.000000         122968.000000  125962.000000  125962.000000   \n",
       "mean             1.103385              2.984020     172.201312       4.111264   \n",
       "std              0.782454              2.818207     259.172977       1.340498   \n",
       "min              1.000000              0.000000       0.000000       1.000000   \n",
       "25%              1.000000              1.000000      61.982500       4.000000   \n",
       "50%              1.000000              2.000000     112.100000       5.000000   \n",
       "75%              1.000000              4.000000     188.070000       5.000000   \n",
       "max             26.000000             24.000000   13664.080000       5.000000   \n",
       "\n",
       "         Nb_tot_pdts  Tot_moy_achats  Mont_max_achats  nb_payment_dif_com  \\\n",
       "count  125962.000000   123204.000000    123204.000000       122971.000000   \n",
       "mean        1.994260      181.272944       125.939393            1.770417   \n",
       "std         3.835652      378.741929       184.402706            3.087028   \n",
       "min         0.000000        0.850000         0.850000            0.000000   \n",
       "25%         1.000000       52.000000        44.900000            1.000000   \n",
       "50%         1.000000       99.900000        79.900000            1.000000   \n",
       "75%         2.000000      179.900000       139.990000            2.000000   \n",
       "max        75.000000    13440.000000      6735.000000           63.000000   \n",
       "\n",
       "       nmbre_echea_tot   nb_commandes   Note_Moy_Com  Nb_moy_pdts_par_com  \n",
       "count    122971.000000  125962.000000  125962.000000        123204.000000  \n",
       "mean          5.066414       1.130238       4.111264             2.126143  \n",
       "std           8.549764       0.631627       1.317571             5.325344  \n",
       "min           0.000000       0.000000       1.000000             1.000000  \n",
       "25%           1.000000       1.000000       4.000000             1.000000  \n",
       "50%           2.000000       1.000000       5.000000             1.000000  \n",
       "75%           6.000000       1.000000       5.000000             2.000000  \n",
       "max         240.000000      15.000000       5.000000           112.500000  "
      ]
     },
     "execution_count": 110,
     "metadata": {},
     "output_type": "execute_result"
    }
   ],
   "source": [
    "data.describe()"
   ]
  },
  {
   "cell_type": "code",
   "execution_count": 111,
   "id": "0f871806",
   "metadata": {},
   "outputs": [
    {
     "data": {
      "text/plain": [
       "(125962, 27)"
      ]
     },
     "execution_count": 111,
     "metadata": {},
     "output_type": "execute_result"
    }
   ],
   "source": [
    "data.shape"
   ]
  },
  {
   "cell_type": "code",
   "execution_count": 112,
   "id": "3a7224ba",
   "metadata": {},
   "outputs": [
    {
     "data": {
      "text/plain": [
       "0"
      ]
     },
     "execution_count": 112,
     "metadata": {},
     "output_type": "execute_result"
    }
   ],
   "source": [
    "data.duplicated().sum()"
   ]
  },
  {
   "cell_type": "code",
   "execution_count": 113,
   "id": "f9aaa5ad",
   "metadata": {},
   "outputs": [
    {
     "data": {
      "text/plain": [
       "Index(['customer_id', 'customer_unique_id', 'customer_zip_code_prefix',\n",
       "       'customer_city', 'customer_state', 'order_id', 'order_item_id',\n",
       "       'product_id', 'price', 'freight_value', 'order_status',\n",
       "       'payment_sequential', 'payment_type', 'payment_installments',\n",
       "       'payment_value', 'review_id', 'review_score',\n",
       "       'product_category_name_english', 'Nb_tot_pdts', 'Tot_moy_achats',\n",
       "       'Mont_max_achats', 'nb_payment_dif_com', 'nmbre_echea_tot',\n",
       "       'nb_commandes', 'Note_Moy_Com', 'Cat_la_plus_achetee',\n",
       "       'Nb_moy_pdts_par_com'],\n",
       "      dtype='object')"
      ]
     },
     "execution_count": 113,
     "metadata": {},
     "output_type": "execute_result"
    }
   ],
   "source": [
    "data.columns"
   ]
  },
  {
   "cell_type": "code",
   "execution_count": 114,
   "id": "6ce62d1b",
   "metadata": {},
   "outputs": [],
   "source": [
    "data=data.drop(columns=['customer_zip_code_prefix','order_id', 'order_item_id',\n",
    "       'product_id','order_status',\n",
    "       'payment_sequential', 'payment_installments','review_id'])"
   ]
  },
  {
   "cell_type": "code",
   "execution_count": 115,
   "id": "9da2feb5",
   "metadata": {},
   "outputs": [
    {
     "data": {
      "text/plain": [
       "customer_id                         0\n",
       "customer_unique_id                  0\n",
       "customer_city                       0\n",
       "customer_state                      0\n",
       "price                               0\n",
       "freight_value                       0\n",
       "payment_type                     2994\n",
       "payment_value                       0\n",
       "review_score                        0\n",
       "product_category_name_english    2991\n",
       "Nb_tot_pdts                         0\n",
       "Tot_moy_achats                   2758\n",
       "Mont_max_achats                  2758\n",
       "nb_payment_dif_com               2991\n",
       "nmbre_echea_tot                  2991\n",
       "nb_commandes                        0\n",
       "Note_Moy_Com                        0\n",
       "Cat_la_plus_achetee              2758\n",
       "Nb_moy_pdts_par_com              2758\n",
       "dtype: int64"
      ]
     },
     "execution_count": 115,
     "metadata": {},
     "output_type": "execute_result"
    }
   ],
   "source": [
    "data.isna().sum()"
   ]
  },
  {
   "cell_type": "code",
   "execution_count": 116,
   "id": "8f85640c",
   "metadata": {},
   "outputs": [],
   "source": [
    "data['freight_value'].fillna(data['freight_value'].mode(), inplace=True)\n",
    "data['product_category_name_english'].fillna('Inconnue', inplace=True)\n",
    "data['Tot_moy_achats'].fillna(data['Tot_moy_achats'].mean(), inplace=True)\n",
    "data['Mont_max_achats'].fillna(data['Mont_max_achats'].mean(), inplace=True)\n",
    "data['nb_payment_dif_com'].fillna(data['nb_payment_dif_com'].mean(), inplace=True)\n",
    "data['nmbre_echea_tot'].fillna(data['nmbre_echea_tot'].mean(), inplace=True)\n",
    "data['Cat_la_plus_achetee'].fillna(data['Cat_la_plus_achetee'].mode(), inplace=True)\n",
    "data['Nb_moy_pdts_par_com'].fillna(data['Nb_moy_pdts_par_com'].mean(), inplace=True)"
   ]
  },
  {
   "cell_type": "code",
   "execution_count": 117,
   "id": "5e0feed7",
   "metadata": {},
   "outputs": [
    {
     "data": {
      "text/plain": [
       "customer_id                         0\n",
       "customer_unique_id                  0\n",
       "customer_city                       0\n",
       "customer_state                      0\n",
       "price                               0\n",
       "freight_value                       0\n",
       "payment_type                     2994\n",
       "payment_value                       0\n",
       "review_score                        0\n",
       "product_category_name_english       0\n",
       "Nb_tot_pdts                         0\n",
       "Tot_moy_achats                      0\n",
       "Mont_max_achats                     0\n",
       "nb_payment_dif_com                  0\n",
       "nmbre_echea_tot                     0\n",
       "nb_commandes                        0\n",
       "Note_Moy_Com                        0\n",
       "Cat_la_plus_achetee              2758\n",
       "Nb_moy_pdts_par_com                 0\n",
       "dtype: int64"
      ]
     },
     "execution_count": 117,
     "metadata": {},
     "output_type": "execute_result"
    }
   ],
   "source": [
    "data.isna().sum()"
   ]
  },
  {
   "cell_type": "code",
   "execution_count": 118,
   "id": "a9a2acfb",
   "metadata": {},
   "outputs": [],
   "source": [
    "data.dropna(how='any', inplace=True)"
   ]
  },
  {
   "cell_type": "code",
   "execution_count": 119,
   "id": "c5ee80c0",
   "metadata": {},
   "outputs": [
    {
     "data": {
      "text/plain": [
       "customer_id                      0\n",
       "customer_unique_id               0\n",
       "customer_city                    0\n",
       "customer_state                   0\n",
       "price                            0\n",
       "freight_value                    0\n",
       "payment_type                     0\n",
       "payment_value                    0\n",
       "review_score                     0\n",
       "product_category_name_english    0\n",
       "Nb_tot_pdts                      0\n",
       "Tot_moy_achats                   0\n",
       "Mont_max_achats                  0\n",
       "nb_payment_dif_com               0\n",
       "nmbre_echea_tot                  0\n",
       "nb_commandes                     0\n",
       "Note_Moy_Com                     0\n",
       "Cat_la_plus_achetee              0\n",
       "Nb_moy_pdts_par_com              0\n",
       "dtype: int64"
      ]
     },
     "execution_count": 119,
     "metadata": {},
     "output_type": "execute_result"
    }
   ],
   "source": [
    "data.isna().sum()"
   ]
  },
  {
   "cell_type": "code",
   "execution_count": 120,
   "id": "57bbcf69",
   "metadata": {},
   "outputs": [
    {
     "data": {
      "text/plain": [
       "(122968, 19)"
      ]
     },
     "execution_count": 120,
     "metadata": {},
     "output_type": "execute_result"
    }
   ],
   "source": [
    "data.shape"
   ]
  },
  {
   "cell_type": "code",
   "execution_count": 121,
   "id": "b177705d",
   "metadata": {},
   "outputs": [
    {
     "data": {
      "text/plain": [
       "<AxesSubplot:>"
      ]
     },
     "execution_count": 121,
     "metadata": {},
     "output_type": "execute_result"
    },
    {
     "data": {
      "image/png": "[encoded data removed]",
      "text/plain": [
       "<Figure size 640x480 with 2 Axes>"
      ]
     },
     "metadata": {},
     "output_type": "display_data"
    }
   ],
   "source": [
    "#plt.figure(figsize=(10,10))\n",
    "sns.heatmap(data.corr())"
   ]
  },
  {
   "cell_type": "markdown",
   "id": "bd5a6dd6",
   "metadata": {},
   "source": [
    "On voit que :\n",
    "   * les variables review_score et Note_Moy_com sont correlées ;\n",
    "   * les variables price et Mont_max_achats sont correlées ;\n",
    "    "
   ]
  },
  {
   "cell_type": "code",
   "execution_count": 122,
   "id": "069d4c80",
   "metadata": {},
   "outputs": [],
   "source": [
    "data=data.drop(columns=['review_score'])"
   ]
  },
  {
   "cell_type": "code",
   "execution_count": 123,
   "id": "17e15a07",
   "metadata": {},
   "outputs": [],
   "source": [
    "data.to_csv('basefinale2.csv')"
   ]
  },
  {
   "cell_type": "code",
   "execution_count": null,
   "id": "b3ea48a2",
   "metadata": {},
   "outputs": [],
   "source": []
  }
 ],
 "metadata": {
  "kernelspec": {
   "display_name": "Python 3 (ipykernel)",
   "language": "python",
   "name": "python3"
  },
  "language_info": {
   "codemirror_mode": {
    "name": "ipython",
    "version": 3
   },
   "file_extension": ".py",
   "mimetype": "text/x-python",
   "name": "python",
   "nbconvert_exporter": "python",
   "pygments_lexer": "ipython3",
   "version": "3.9.13"
  },
  "toc-autonumbering": false,
  "toc-showmarkdowntxt": false,
  "toc-showtags": true
 },
 "nbformat": 4,
 "nbformat_minor": 5
}
